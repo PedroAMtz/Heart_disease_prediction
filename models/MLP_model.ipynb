{
 "cells": [
  {
   "cell_type": "markdown",
   "id": "005a4337",
   "metadata": {},
   "source": [
    "# Heart Disease Prediction using simple Neural Network model"
   ]
  },
  {
   "cell_type": "code",
   "execution_count": 1,
   "id": "3a4efdca",
   "metadata": {},
   "outputs": [],
   "source": [
    "import numpy as np\n",
    "import mlflow\n",
    "import pandas as pd\n",
    "import tensorflow as tf\n",
    "import matplotlib.pyplot as plt\n",
    "from tensorflow import feature_column\n",
    "from tensorflow.keras import layers\n",
    "from sklearn.model_selection import train_test_split"
   ]
  },
  {
   "cell_type": "code",
   "execution_count": 20,
   "id": "2096a650",
   "metadata": {},
   "outputs": [
    {
     "name": "stdout",
     "output_type": "stream",
     "text": [
      "2.12.0\n"
     ]
    }
   ],
   "source": [
    "print(tf.__version__)"
   ]
  },
  {
   "cell_type": "code",
   "execution_count": 2,
   "id": "b7f3fc91",
   "metadata": {},
   "outputs": [],
   "source": [
    "def training_plot(metrics, history):\n",
    "    f, ax = plt.subplots(1, len(metrics), figsize=(5*len(metrics), 5))\n",
    "    for idx, metric in enumerate(metrics):\n",
    "        ax[idx].plot(history.history[metric], ls='dashed')\n",
    "        ax[idx].set_xlabel(\"Epochs\")\n",
    "        ax[idx].set_ylabel(metric)\n",
    "        ax[idx].plot(history.history['val_' + metric]);\n",
    "        ax[idx].legend([metric, 'val_' + metric])"
   ]
  },
  {
   "cell_type": "code",
   "execution_count": 3,
   "id": "fc3eaee4",
   "metadata": {},
   "outputs": [
    {
     "data": {
      "text/html": [
       "<div>\n",
       "<style scoped>\n",
       "    .dataframe tbody tr th:only-of-type {\n",
       "        vertical-align: middle;\n",
       "    }\n",
       "\n",
       "    .dataframe tbody tr th {\n",
       "        vertical-align: top;\n",
       "    }\n",
       "\n",
       "    .dataframe thead th {\n",
       "        text-align: right;\n",
       "    }\n",
       "</style>\n",
       "<table border=\"1\" class=\"dataframe\">\n",
       "  <thead>\n",
       "    <tr style=\"text-align: right;\">\n",
       "      <th></th>\n",
       "      <th>age</th>\n",
       "      <th>sex</th>\n",
       "      <th>cp</th>\n",
       "      <th>trestbps</th>\n",
       "      <th>chol</th>\n",
       "      <th>fbs</th>\n",
       "      <th>restecg</th>\n",
       "      <th>thalach</th>\n",
       "      <th>exang</th>\n",
       "      <th>oldpeak</th>\n",
       "      <th>slope</th>\n",
       "      <th>ca</th>\n",
       "      <th>thal</th>\n",
       "      <th>target</th>\n",
       "    </tr>\n",
       "  </thead>\n",
       "  <tbody>\n",
       "    <tr>\n",
       "      <th>0</th>\n",
       "      <td>63</td>\n",
       "      <td>1</td>\n",
       "      <td>3</td>\n",
       "      <td>145</td>\n",
       "      <td>233</td>\n",
       "      <td>1</td>\n",
       "      <td>0</td>\n",
       "      <td>150</td>\n",
       "      <td>0</td>\n",
       "      <td>2.3</td>\n",
       "      <td>0</td>\n",
       "      <td>0</td>\n",
       "      <td>1</td>\n",
       "      <td>1</td>\n",
       "    </tr>\n",
       "    <tr>\n",
       "      <th>1</th>\n",
       "      <td>37</td>\n",
       "      <td>1</td>\n",
       "      <td>2</td>\n",
       "      <td>130</td>\n",
       "      <td>250</td>\n",
       "      <td>0</td>\n",
       "      <td>1</td>\n",
       "      <td>187</td>\n",
       "      <td>0</td>\n",
       "      <td>3.5</td>\n",
       "      <td>0</td>\n",
       "      <td>0</td>\n",
       "      <td>2</td>\n",
       "      <td>1</td>\n",
       "    </tr>\n",
       "    <tr>\n",
       "      <th>2</th>\n",
       "      <td>41</td>\n",
       "      <td>0</td>\n",
       "      <td>1</td>\n",
       "      <td>130</td>\n",
       "      <td>204</td>\n",
       "      <td>0</td>\n",
       "      <td>0</td>\n",
       "      <td>172</td>\n",
       "      <td>0</td>\n",
       "      <td>1.4</td>\n",
       "      <td>2</td>\n",
       "      <td>0</td>\n",
       "      <td>2</td>\n",
       "      <td>1</td>\n",
       "    </tr>\n",
       "    <tr>\n",
       "      <th>3</th>\n",
       "      <td>56</td>\n",
       "      <td>1</td>\n",
       "      <td>1</td>\n",
       "      <td>120</td>\n",
       "      <td>236</td>\n",
       "      <td>0</td>\n",
       "      <td>1</td>\n",
       "      <td>178</td>\n",
       "      <td>0</td>\n",
       "      <td>0.8</td>\n",
       "      <td>2</td>\n",
       "      <td>0</td>\n",
       "      <td>2</td>\n",
       "      <td>1</td>\n",
       "    </tr>\n",
       "    <tr>\n",
       "      <th>4</th>\n",
       "      <td>57</td>\n",
       "      <td>0</td>\n",
       "      <td>0</td>\n",
       "      <td>120</td>\n",
       "      <td>354</td>\n",
       "      <td>0</td>\n",
       "      <td>1</td>\n",
       "      <td>163</td>\n",
       "      <td>1</td>\n",
       "      <td>0.6</td>\n",
       "      <td>2</td>\n",
       "      <td>0</td>\n",
       "      <td>2</td>\n",
       "      <td>1</td>\n",
       "    </tr>\n",
       "  </tbody>\n",
       "</table>\n",
       "</div>"
      ],
      "text/plain": [
       "   age  sex  cp  trestbps  chol  fbs  restecg  thalach  exang  oldpeak  slope  \\\n",
       "0   63    1   3       145   233    1        0      150      0      2.3      0   \n",
       "1   37    1   2       130   250    0        1      187      0      3.5      0   \n",
       "2   41    0   1       130   204    0        0      172      0      1.4      2   \n",
       "3   56    1   1       120   236    0        1      178      0      0.8      2   \n",
       "4   57    0   0       120   354    0        1      163      1      0.6      2   \n",
       "\n",
       "   ca  thal  target  \n",
       "0   0     1       1  \n",
       "1   0     2       1  \n",
       "2   0     2       1  \n",
       "3   0     2       1  \n",
       "4   0     2       1  "
      ]
     },
     "execution_count": 3,
     "metadata": {},
     "output_type": "execute_result"
    }
   ],
   "source": [
    "data = pd.read_csv(\"heart.csv\")\n",
    "data.head()"
   ]
  },
  {
   "cell_type": "code",
   "execution_count": 4,
   "id": "eab62e92",
   "metadata": {},
   "outputs": [],
   "source": [
    "#data = data.drop(columns=[\"target\"])\n",
    "#data.head()"
   ]
  },
  {
   "cell_type": "code",
   "execution_count": 5,
   "id": "11c20f7c",
   "metadata": {},
   "outputs": [
    {
     "name": "stdout",
     "output_type": "stream",
     "text": [
      "193 train examples\n",
      "49 validation examples\n",
      "61 test examples\n"
     ]
    }
   ],
   "source": [
    "train, test = train_test_split(data, test_size=0.2)\n",
    "train, val = train_test_split(train, test_size=0.2)\n",
    "print(len(train), 'train examples')\n",
    "print(len(val), 'validation examples')\n",
    "print(len(test), 'test examples')"
   ]
  },
  {
   "cell_type": "code",
   "execution_count": 6,
   "id": "df066d57",
   "metadata": {},
   "outputs": [
    {
     "data": {
      "text/html": [
       "<div>\n",
       "<style scoped>\n",
       "    .dataframe tbody tr th:only-of-type {\n",
       "        vertical-align: middle;\n",
       "    }\n",
       "\n",
       "    .dataframe tbody tr th {\n",
       "        vertical-align: top;\n",
       "    }\n",
       "\n",
       "    .dataframe thead th {\n",
       "        text-align: right;\n",
       "    }\n",
       "</style>\n",
       "<table border=\"1\" class=\"dataframe\">\n",
       "  <thead>\n",
       "    <tr style=\"text-align: right;\">\n",
       "      <th></th>\n",
       "      <th>age</th>\n",
       "      <th>sex</th>\n",
       "      <th>cp</th>\n",
       "      <th>trestbps</th>\n",
       "      <th>chol</th>\n",
       "      <th>fbs</th>\n",
       "      <th>restecg</th>\n",
       "      <th>thalach</th>\n",
       "      <th>exang</th>\n",
       "      <th>oldpeak</th>\n",
       "      <th>slope</th>\n",
       "      <th>ca</th>\n",
       "      <th>thal</th>\n",
       "      <th>target</th>\n",
       "    </tr>\n",
       "  </thead>\n",
       "  <tbody>\n",
       "    <tr>\n",
       "      <th>133</th>\n",
       "      <td>41</td>\n",
       "      <td>1</td>\n",
       "      <td>1</td>\n",
       "      <td>110</td>\n",
       "      <td>235</td>\n",
       "      <td>0</td>\n",
       "      <td>1</td>\n",
       "      <td>153</td>\n",
       "      <td>0</td>\n",
       "      <td>0.0</td>\n",
       "      <td>2</td>\n",
       "      <td>0</td>\n",
       "      <td>2</td>\n",
       "      <td>1</td>\n",
       "    </tr>\n",
       "    <tr>\n",
       "      <th>186</th>\n",
       "      <td>60</td>\n",
       "      <td>1</td>\n",
       "      <td>0</td>\n",
       "      <td>130</td>\n",
       "      <td>253</td>\n",
       "      <td>0</td>\n",
       "      <td>1</td>\n",
       "      <td>144</td>\n",
       "      <td>1</td>\n",
       "      <td>1.4</td>\n",
       "      <td>2</td>\n",
       "      <td>1</td>\n",
       "      <td>3</td>\n",
       "      <td>0</td>\n",
       "    </tr>\n",
       "    <tr>\n",
       "      <th>223</th>\n",
       "      <td>56</td>\n",
       "      <td>0</td>\n",
       "      <td>0</td>\n",
       "      <td>200</td>\n",
       "      <td>288</td>\n",
       "      <td>1</td>\n",
       "      <td>0</td>\n",
       "      <td>133</td>\n",
       "      <td>1</td>\n",
       "      <td>4.0</td>\n",
       "      <td>0</td>\n",
       "      <td>2</td>\n",
       "      <td>3</td>\n",
       "      <td>0</td>\n",
       "    </tr>\n",
       "    <tr>\n",
       "      <th>245</th>\n",
       "      <td>48</td>\n",
       "      <td>1</td>\n",
       "      <td>0</td>\n",
       "      <td>124</td>\n",
       "      <td>274</td>\n",
       "      <td>0</td>\n",
       "      <td>0</td>\n",
       "      <td>166</td>\n",
       "      <td>0</td>\n",
       "      <td>0.5</td>\n",
       "      <td>1</td>\n",
       "      <td>0</td>\n",
       "      <td>3</td>\n",
       "      <td>0</td>\n",
       "    </tr>\n",
       "    <tr>\n",
       "      <th>91</th>\n",
       "      <td>57</td>\n",
       "      <td>1</td>\n",
       "      <td>0</td>\n",
       "      <td>132</td>\n",
       "      <td>207</td>\n",
       "      <td>0</td>\n",
       "      <td>1</td>\n",
       "      <td>168</td>\n",
       "      <td>1</td>\n",
       "      <td>0.0</td>\n",
       "      <td>2</td>\n",
       "      <td>0</td>\n",
       "      <td>3</td>\n",
       "      <td>1</td>\n",
       "    </tr>\n",
       "  </tbody>\n",
       "</table>\n",
       "</div>"
      ],
      "text/plain": [
       "     age  sex  cp  trestbps  chol  fbs  restecg  thalach  exang  oldpeak  \\\n",
       "133   41    1   1       110   235    0        1      153      0      0.0   \n",
       "186   60    1   0       130   253    0        1      144      1      1.4   \n",
       "223   56    0   0       200   288    1        0      133      1      4.0   \n",
       "245   48    1   0       124   274    0        0      166      0      0.5   \n",
       "91    57    1   0       132   207    0        1      168      1      0.0   \n",
       "\n",
       "     slope  ca  thal  target  \n",
       "133      2   0     2       1  \n",
       "186      2   1     3       0  \n",
       "223      0   2     3       0  \n",
       "245      1   0     3       0  \n",
       "91       2   0     3       1  "
      ]
     },
     "execution_count": 6,
     "metadata": {},
     "output_type": "execute_result"
    }
   ],
   "source": [
    "train.head()"
   ]
  },
  {
   "cell_type": "code",
   "execution_count": 7,
   "id": "f577860d",
   "metadata": {},
   "outputs": [],
   "source": [
    "# A utility method to create a tf.data dataset from a Pandas Dataframe\n",
    "def df_to_dataset(dataframe, shuffle=True, batch_size=32):\n",
    "    dataframe = dataframe.copy()\n",
    "    labels = dataframe.pop('target')\n",
    "    ds = tf.data.Dataset.from_tensor_slices((dict(dataframe), labels))\n",
    "    if shuffle:\n",
    "        ds = ds.shuffle(buffer_size=len(dataframe))\n",
    "    ds = ds.batch(batch_size)\n",
    "    return ds"
   ]
  },
  {
   "cell_type": "code",
   "execution_count": 8,
   "id": "a67c6027",
   "metadata": {},
   "outputs": [
    {
     "data": {
      "text/plain": [
       "<_BatchDataset element_spec=({'age': TensorSpec(shape=(None,), dtype=tf.int64, name=None), 'sex': TensorSpec(shape=(None,), dtype=tf.int64, name=None), 'cp': TensorSpec(shape=(None,), dtype=tf.int64, name=None), 'trestbps': TensorSpec(shape=(None,), dtype=tf.int64, name=None), 'chol': TensorSpec(shape=(None,), dtype=tf.int64, name=None), 'fbs': TensorSpec(shape=(None,), dtype=tf.int64, name=None), 'restecg': TensorSpec(shape=(None,), dtype=tf.int64, name=None), 'thalach': TensorSpec(shape=(None,), dtype=tf.int64, name=None), 'exang': TensorSpec(shape=(None,), dtype=tf.int64, name=None), 'oldpeak': TensorSpec(shape=(None,), dtype=tf.float64, name=None), 'slope': TensorSpec(shape=(None,), dtype=tf.int64, name=None), 'ca': TensorSpec(shape=(None,), dtype=tf.int64, name=None), 'thal': TensorSpec(shape=(None,), dtype=tf.int64, name=None)}, TensorSpec(shape=(None,), dtype=tf.int64, name=None))>"
      ]
     },
     "execution_count": 8,
     "metadata": {},
     "output_type": "execute_result"
    }
   ],
   "source": [
    "df_to_dataset(data)"
   ]
  },
  {
   "cell_type": "code",
   "execution_count": 9,
   "id": "fbdb1c7a",
   "metadata": {},
   "outputs": [],
   "source": [
    "batch_size = 5 # A small batch sized is used for demonstration purposes\n",
    "train_ds = df_to_dataset(train, batch_size=batch_size)\n",
    "val_ds = df_to_dataset(val, shuffle=False, batch_size=batch_size)\n",
    "test_ds = df_to_dataset(test, shuffle=False, batch_size=batch_size)"
   ]
  },
  {
   "cell_type": "code",
   "execution_count": 10,
   "id": "9282b7d4",
   "metadata": {},
   "outputs": [
    {
     "name": "stdout",
     "output_type": "stream",
     "text": [
      "Every feature: ['age', 'sex', 'cp', 'trestbps', 'chol', 'fbs', 'restecg', 'thalach', 'exang', 'oldpeak', 'slope', 'ca', 'thal']\n",
      "A batch of ages: tf.Tensor([56 49 55 60 56], shape=(5,), dtype=int64)\n",
      "A batch of targets: tf.Tensor([1 0 1 1 0], shape=(5,), dtype=int64)\n"
     ]
    }
   ],
   "source": [
    "for feature_batch, label_batch in train_ds.take(1):\n",
    "    print('Every feature:', list(feature_batch.keys()))\n",
    "    print('A batch of ages:', feature_batch['age'])\n",
    "    print('A batch of targets:', label_batch )"
   ]
  },
  {
   "cell_type": "code",
   "execution_count": 11,
   "id": "42ff2748",
   "metadata": {},
   "outputs": [],
   "source": [
    "example_batch = next(iter(train_ds))[0]\n",
    "# A utility method to create a feature column\n",
    "# and to transform a batch of data\n",
    "def demo(feature_column):\n",
    "    feature_layer = layers.DenseFeatures(feature_column)\n",
    "    print(feature_layer(example_batch).numpy())"
   ]
  },
  {
   "cell_type": "code",
   "execution_count": 12,
   "id": "0646b458",
   "metadata": {},
   "outputs": [
    {
     "name": "stdout",
     "output_type": "stream",
     "text": [
      "WARNING:tensorflow:From C:\\Users\\pedro\\AppData\\Local\\Temp\\ipykernel_9508\\373825582.py:1: numeric_column (from tensorflow.python.feature_column.feature_column_v2) is deprecated and will be removed in a future version.\n",
      "Instructions for updating:\n",
      "Use Keras preprocessing layers instead, either directly or via the `tf.keras.utils.FeatureSpace` utility. Each of `tf.feature_column.*` has a functional equivalent in `tf.keras.layers` for feature preprocessing when training a Keras model.\n",
      "[[45.]\n",
      " [58.]\n",
      " [43.]\n",
      " [62.]\n",
      " [45.]]\n"
     ]
    }
   ],
   "source": [
    "photo_count = feature_column.numeric_column('age')\n",
    "demo(photo_count)"
   ]
  },
  {
   "cell_type": "code",
   "execution_count": 13,
   "id": "33af6077",
   "metadata": {},
   "outputs": [
    {
     "name": "stdout",
     "output_type": "stream",
     "text": [
      "WARNING:tensorflow:From C:\\Users\\pedro\\AppData\\Local\\Temp\\ipykernel_9508\\3019673592.py:2: bucketized_column (from tensorflow.python.feature_column.feature_column_v2) is deprecated and will be removed in a future version.\n",
      "Instructions for updating:\n",
      "Use Keras preprocessing layers instead, either directly or via the `tf.keras.utils.FeatureSpace` utility. Each of `tf.feature_column.*` has a functional equivalent in `tf.keras.layers` for feature preprocessing when training a Keras model.\n",
      "[[0. 0. 0. 1.]\n",
      " [0. 0. 0. 1.]\n",
      " [0. 0. 0. 1.]\n",
      " [0. 0. 0. 1.]\n",
      " [0. 0. 0. 1.]]\n"
     ]
    }
   ],
   "source": [
    "age = feature_column.numeric_column('age')\n",
    "age_buckets = feature_column.bucketized_column(age, boundaries=[1, 3, 5])\n",
    "demo(age_buckets)"
   ]
  },
  {
   "cell_type": "code",
   "execution_count": 14,
   "id": "1c088d9f",
   "metadata": {},
   "outputs": [],
   "source": [
    "feature_columns = []\n",
    "\n",
    "# numeric cols\n",
    "for header in [\"age\", \"sex\", \"cp\", \"trestbps\", \"chol\", \"fbs\", \"restecg\", \"thalach\", \"exang\", \"oldpeak\", \"slope\", \"ca\", \"thal\"]:\n",
    "    feature_columns.append(feature_column.numeric_column(header))"
   ]
  },
  {
   "cell_type": "code",
   "execution_count": 15,
   "id": "79ec6793",
   "metadata": {},
   "outputs": [],
   "source": [
    "feature_layer = tf.keras.layers.DenseFeatures(feature_columns)"
   ]
  },
  {
   "cell_type": "code",
   "execution_count": 16,
   "id": "702ae5cf",
   "metadata": {},
   "outputs": [],
   "source": [
    "batch_size = 32\n",
    "train_ds = df_to_dataset(train, batch_size=batch_size)\n",
    "val_ds = df_to_dataset(val, shuffle=False, batch_size=batch_size)\n",
    "test_ds = df_to_dataset(test, shuffle=False, batch_size=batch_size)"
   ]
  },
  {
   "cell_type": "code",
   "execution_count": 17,
   "id": "b4072bad",
   "metadata": {},
   "outputs": [],
   "source": [
    "mlflow.tensorflow.autolog(every_n_iter=2)"
   ]
  },
  {
   "cell_type": "code",
   "execution_count": 18,
   "id": "d19621af",
   "metadata": {},
   "outputs": [
    {
     "name": "stderr",
     "output_type": "stream",
     "text": [
      "2023/06/27 21:29:50 INFO mlflow.utils.autologging_utils: Created MLflow autologging run with ID 'ada9384801824a9cbd0ee5dcb3f208d0', which will track hyperparameters, performance metrics, model artifacts, and lineage information for the current tensorflow workflow\n",
      "2023/06/27 21:29:50 WARNING mlflow.tensorflow: Encountered unexpected error while inferring batch size from training dataset: 'Sequential' object has no attribute '_nested_inputs'\n",
      "2023/06/27 21:29:50 WARNING mlflow.data.tensorflow_dataset: Failed to infer schema for TensorFlow dataset. Exception: Failed to infer schema for tf.data.Dataset. Schemas can only be inferred if the dataset consists of tensors. Ragged tensors, tensor arrays, and other types are not supported. Additionally, datasets with nested tensors are not supported.\n",
      "2023/06/27 21:29:50 WARNING mlflow.data.tensorflow_dataset: Failed to infer schema for TensorFlow dataset. Exception: Failed to infer schema for tf.data.Dataset. Schemas can only be inferred if the dataset consists of tensors. Ragged tensors, tensor arrays, and other types are not supported. Additionally, datasets with nested tensors are not supported.\n"
     ]
    },
    {
     "name": "stdout",
     "output_type": "stream",
     "text": [
      "WARNING:tensorflow:From C:\\Users\\pedro\\OneDrive\\Escritorio\\Proyecto_IA_SS\\venv\\lib\\site-packages\\keras\\feature_column\\base_feature_layer.py:129: serialize_feature_column (from tensorflow.python.feature_column.serialization) is deprecated and will be removed in a future version.\n",
      "Instructions for updating:\n",
      "Use Keras preprocessing layers instead, either directly or via the `tf.keras.utils.FeatureSpace` utility. Each of `tf.feature_column.*` has a functional equivalent in `tf.keras.layers` for feature preprocessing when training a Keras model.\n"
     ]
    },
    {
     "name": "stderr",
     "output_type": "stream",
     "text": [
      "2023/06/27 21:29:50 WARNING mlflow.utils.autologging_utils: MLflow autologging encountered a warning: \"C:\\Users\\pedro\\OneDrive\\Escritorio\\Proyecto_IA_SS\\venv\\lib\\site-packages\\mlflow\\tensorflow\\_autolog.py:48: UserWarning: This model has not yet been built. Build the model first by calling `build()` or by calling the model on a batch of data.\"\n"
     ]
    },
    {
     "name": "stdout",
     "output_type": "stream",
     "text": [
      "Epoch 1/40\n",
      "WARNING:tensorflow:Layers in a Sequential model should only have a single input tensor. Received: inputs={'age': <tf.Tensor 'IteratorGetNext:0' shape=(None,) dtype=int64>, 'sex': <tf.Tensor 'IteratorGetNext:8' shape=(None,) dtype=int64>, 'cp': <tf.Tensor 'IteratorGetNext:3' shape=(None,) dtype=int64>, 'trestbps': <tf.Tensor 'IteratorGetNext:12' shape=(None,) dtype=int64>, 'chol': <tf.Tensor 'IteratorGetNext:2' shape=(None,) dtype=int64>, 'fbs': <tf.Tensor 'IteratorGetNext:5' shape=(None,) dtype=int64>, 'restecg': <tf.Tensor 'IteratorGetNext:7' shape=(None,) dtype=int64>, 'thalach': <tf.Tensor 'IteratorGetNext:11' shape=(None,) dtype=int64>, 'exang': <tf.Tensor 'IteratorGetNext:4' shape=(None,) dtype=int64>, 'oldpeak': <tf.Tensor 'IteratorGetNext:6' shape=(None,) dtype=float64>, 'slope': <tf.Tensor 'IteratorGetNext:9' shape=(None,) dtype=int64>, 'ca': <tf.Tensor 'IteratorGetNext:1' shape=(None,) dtype=int64>, 'thal': <tf.Tensor 'IteratorGetNext:10' shape=(None,) dtype=int64>}. Consider rewriting this model with the Functional API.\n",
      "WARNING:tensorflow:Layers in a Sequential model should only have a single input tensor. Received: inputs={'age': <tf.Tensor 'IteratorGetNext:0' shape=(None,) dtype=int64>, 'sex': <tf.Tensor 'IteratorGetNext:8' shape=(None,) dtype=int64>, 'cp': <tf.Tensor 'IteratorGetNext:3' shape=(None,) dtype=int64>, 'trestbps': <tf.Tensor 'IteratorGetNext:12' shape=(None,) dtype=int64>, 'chol': <tf.Tensor 'IteratorGetNext:2' shape=(None,) dtype=int64>, 'fbs': <tf.Tensor 'IteratorGetNext:5' shape=(None,) dtype=int64>, 'restecg': <tf.Tensor 'IteratorGetNext:7' shape=(None,) dtype=int64>, 'thalach': <tf.Tensor 'IteratorGetNext:11' shape=(None,) dtype=int64>, 'exang': <tf.Tensor 'IteratorGetNext:4' shape=(None,) dtype=int64>, 'oldpeak': <tf.Tensor 'IteratorGetNext:6' shape=(None,) dtype=float64>, 'slope': <tf.Tensor 'IteratorGetNext:9' shape=(None,) dtype=int64>, 'ca': <tf.Tensor 'IteratorGetNext:1' shape=(None,) dtype=int64>, 'thal': <tf.Tensor 'IteratorGetNext:10' shape=(None,) dtype=int64>}. Consider rewriting this model with the Functional API.\n",
      "1/7 [===>..........................] - ETA: 18s - loss: 8.3237 - accuracy: 0.6250WARNING:tensorflow:Callback method `on_train_batch_end` is slow compared to the batch time (batch time: 0.0073s vs `on_train_batch_end` time: 0.0094s). Check your callbacks.\n",
      "WARNING:tensorflow:Layers in a Sequential model should only have a single input tensor. Received: inputs={'age': <tf.Tensor 'IteratorGetNext:0' shape=(None,) dtype=int64>, 'sex': <tf.Tensor 'IteratorGetNext:8' shape=(None,) dtype=int64>, 'cp': <tf.Tensor 'IteratorGetNext:3' shape=(None,) dtype=int64>, 'trestbps': <tf.Tensor 'IteratorGetNext:12' shape=(None,) dtype=int64>, 'chol': <tf.Tensor 'IteratorGetNext:2' shape=(None,) dtype=int64>, 'fbs': <tf.Tensor 'IteratorGetNext:5' shape=(None,) dtype=int64>, 'restecg': <tf.Tensor 'IteratorGetNext:7' shape=(None,) dtype=int64>, 'thalach': <tf.Tensor 'IteratorGetNext:11' shape=(None,) dtype=int64>, 'exang': <tf.Tensor 'IteratorGetNext:4' shape=(None,) dtype=int64>, 'oldpeak': <tf.Tensor 'IteratorGetNext:6' shape=(None,) dtype=float64>, 'slope': <tf.Tensor 'IteratorGetNext:9' shape=(None,) dtype=int64>, 'ca': <tf.Tensor 'IteratorGetNext:1' shape=(None,) dtype=int64>, 'thal': <tf.Tensor 'IteratorGetNext:10' shape=(None,) dtype=int64>}. Consider rewriting this model with the Functional API.\n",
      "7/7 [==============================] - 4s 149ms/step - loss: 5.6889 - accuracy: 0.4456 - val_loss: 3.0085 - val_accuracy: 0.5306\n",
      "Epoch 2/40\n",
      "7/7 [==============================] - 0s 20ms/step - loss: 3.1831 - accuracy: 0.4715 - val_loss: 1.7852 - val_accuracy: 0.5102\n",
      "Epoch 3/40\n",
      "7/7 [==============================] - 0s 23ms/step - loss: 3.6313 - accuracy: 0.4819 - val_loss: 0.9068 - val_accuracy: 0.6735\n",
      "Epoch 4/40\n",
      "7/7 [==============================] - 0s 19ms/step - loss: 2.2418 - accuracy: 0.5855 - val_loss: 0.7911 - val_accuracy: 0.7551\n",
      "Epoch 5/40\n",
      "7/7 [==============================] - 0s 23ms/step - loss: 2.5450 - accuracy: 0.5544 - val_loss: 1.1874 - val_accuracy: 0.6327\n",
      "Epoch 6/40\n",
      "7/7 [==============================] - 0s 18ms/step - loss: 2.0156 - accuracy: 0.6114 - val_loss: 0.8439 - val_accuracy: 0.7143\n",
      "Epoch 7/40\n",
      "7/7 [==============================] - 0s 25ms/step - loss: 1.8876 - accuracy: 0.6580 - val_loss: 0.9113 - val_accuracy: 0.6735\n",
      "Epoch 8/40\n",
      "7/7 [==============================] - 0s 21ms/step - loss: 1.8389 - accuracy: 0.5959 - val_loss: 0.8883 - val_accuracy: 0.6531\n",
      "Epoch 9/40\n",
      "7/7 [==============================] - 0s 23ms/step - loss: 2.2028 - accuracy: 0.5389 - val_loss: 0.8376 - val_accuracy: 0.6939\n",
      "Epoch 10/40\n",
      "7/7 [==============================] - 0s 20ms/step - loss: 1.5978 - accuracy: 0.6528 - val_loss: 0.8639 - val_accuracy: 0.6735\n",
      "Epoch 11/40\n",
      "7/7 [==============================] - 0s 20ms/step - loss: 1.3047 - accuracy: 0.7202 - val_loss: 1.8607 - val_accuracy: 0.6122\n",
      "Epoch 12/40\n",
      "7/7 [==============================] - 0s 19ms/step - loss: 2.0853 - accuracy: 0.6528 - val_loss: 1.0242 - val_accuracy: 0.7143\n",
      "Epoch 13/40\n",
      "7/7 [==============================] - 0s 23ms/step - loss: 1.6267 - accuracy: 0.6580 - val_loss: 1.6041 - val_accuracy: 0.6327\n",
      "Epoch 14/40\n",
      "7/7 [==============================] - 0s 19ms/step - loss: 1.4576 - accuracy: 0.6580 - val_loss: 1.3223 - val_accuracy: 0.6531\n",
      "Epoch 15/40\n",
      "7/7 [==============================] - 0s 23ms/step - loss: 2.1905 - accuracy: 0.5440 - val_loss: 1.5310 - val_accuracy: 0.6327\n",
      "Epoch 16/40\n",
      "7/7 [==============================] - 0s 20ms/step - loss: 1.5644 - accuracy: 0.6425 - val_loss: 0.7830 - val_accuracy: 0.7143\n",
      "Epoch 17/40\n",
      "7/7 [==============================] - 0s 23ms/step - loss: 1.5579 - accuracy: 0.6891 - val_loss: 0.8531 - val_accuracy: 0.6939\n",
      "Epoch 18/40\n",
      "7/7 [==============================] - 0s 20ms/step - loss: 1.0468 - accuracy: 0.6684 - val_loss: 0.7032 - val_accuracy: 0.7143\n",
      "Epoch 19/40\n",
      "7/7 [==============================] - 0s 22ms/step - loss: 1.1685 - accuracy: 0.6218 - val_loss: 1.1661 - val_accuracy: 0.6735\n",
      "Epoch 20/40\n",
      "7/7 [==============================] - 0s 19ms/step - loss: 1.2584 - accuracy: 0.6425 - val_loss: 0.6833 - val_accuracy: 0.7143\n",
      "Epoch 21/40\n",
      "7/7 [==============================] - 0s 24ms/step - loss: 1.1999 - accuracy: 0.6166 - val_loss: 0.9594 - val_accuracy: 0.6735\n",
      "Epoch 22/40\n",
      "7/7 [==============================] - 0s 20ms/step - loss: 1.0614 - accuracy: 0.6580 - val_loss: 0.6973 - val_accuracy: 0.6735\n",
      "Epoch 23/40\n",
      "7/7 [==============================] - 0s 22ms/step - loss: 1.2384 - accuracy: 0.6321 - val_loss: 0.4977 - val_accuracy: 0.7755\n",
      "Epoch 24/40\n",
      "7/7 [==============================] - 0s 18ms/step - loss: 1.1226 - accuracy: 0.5648 - val_loss: 0.6670 - val_accuracy: 0.7143\n",
      "Epoch 25/40\n",
      "7/7 [==============================] - 0s 23ms/step - loss: 1.0023 - accuracy: 0.6114 - val_loss: 0.7185 - val_accuracy: 0.6939\n",
      "Epoch 26/40\n",
      "7/7 [==============================] - 0s 18ms/step - loss: 1.1532 - accuracy: 0.6839 - val_loss: 0.5977 - val_accuracy: 0.7551\n",
      "Epoch 27/40\n",
      "7/7 [==============================] - 0s 22ms/step - loss: 0.9217 - accuracy: 0.6736 - val_loss: 0.6712 - val_accuracy: 0.7143\n",
      "Epoch 28/40\n",
      "7/7 [==============================] - 0s 19ms/step - loss: 0.7517 - accuracy: 0.7047 - val_loss: 0.5467 - val_accuracy: 0.7347\n",
      "Epoch 29/40\n",
      "7/7 [==============================] - 0s 23ms/step - loss: 0.7568 - accuracy: 0.6943 - val_loss: 0.7347 - val_accuracy: 0.6735\n",
      "Epoch 30/40\n",
      "7/7 [==============================] - 0s 18ms/step - loss: 0.8007 - accuracy: 0.6736 - val_loss: 0.4970 - val_accuracy: 0.8163\n",
      "Epoch 31/40\n",
      "7/7 [==============================] - 0s 23ms/step - loss: 0.9221 - accuracy: 0.6114 - val_loss: 0.5404 - val_accuracy: 0.7755\n",
      "Epoch 32/40\n",
      "7/7 [==============================] - 0s 20ms/step - loss: 0.5701 - accuracy: 0.6995 - val_loss: 0.5640 - val_accuracy: 0.7551\n",
      "Epoch 33/40\n",
      "7/7 [==============================] - 0s 21ms/step - loss: 0.6574 - accuracy: 0.7150 - val_loss: 0.5117 - val_accuracy: 0.7755\n",
      "Epoch 34/40\n",
      "7/7 [==============================] - 0s 19ms/step - loss: 0.6466 - accuracy: 0.6891 - val_loss: 0.5138 - val_accuracy: 0.7755\n",
      "Epoch 35/40\n"
     ]
    },
    {
     "name": "stdout",
     "output_type": "stream",
     "text": [
      "7/7 [==============================] - 0s 26ms/step - loss: 0.7260 - accuracy: 0.6477 - val_loss: 0.9629 - val_accuracy: 0.6327\n",
      "Epoch 36/40\n",
      "7/7 [==============================] - 0s 18ms/step - loss: 0.9031 - accuracy: 0.6891 - val_loss: 0.7393 - val_accuracy: 0.6531\n",
      "Epoch 37/40\n",
      "7/7 [==============================] - 0s 23ms/step - loss: 0.9140 - accuracy: 0.6166 - val_loss: 1.0348 - val_accuracy: 0.6327\n",
      "Epoch 38/40\n",
      "7/7 [==============================] - 0s 20ms/step - loss: 0.9245 - accuracy: 0.7098 - val_loss: 0.5938 - val_accuracy: 0.6735\n",
      "Epoch 39/40\n",
      "7/7 [==============================] - 0s 22ms/step - loss: 0.7815 - accuracy: 0.6218 - val_loss: 0.9079 - val_accuracy: 0.6327\n",
      "Epoch 40/40\n",
      "7/7 [==============================] - 0s 19ms/step - loss: 0.7988 - accuracy: 0.6943 - val_loss: 0.6483 - val_accuracy: 0.6531\n",
      "WARNING:tensorflow:Layers in a Sequential model should only have a single input tensor. Received: inputs={'age': <tf.Tensor 'IteratorGetNext:0' shape=(None,) dtype=int64>, 'sex': <tf.Tensor 'IteratorGetNext:8' shape=(None,) dtype=int64>, 'cp': <tf.Tensor 'IteratorGetNext:3' shape=(None,) dtype=int64>, 'trestbps': <tf.Tensor 'IteratorGetNext:12' shape=(None,) dtype=int64>, 'chol': <tf.Tensor 'IteratorGetNext:2' shape=(None,) dtype=int64>, 'fbs': <tf.Tensor 'IteratorGetNext:5' shape=(None,) dtype=int64>, 'restecg': <tf.Tensor 'IteratorGetNext:7' shape=(None,) dtype=int64>, 'thalach': <tf.Tensor 'IteratorGetNext:11' shape=(None,) dtype=int64>, 'exang': <tf.Tensor 'IteratorGetNext:4' shape=(None,) dtype=int64>, 'oldpeak': <tf.Tensor 'IteratorGetNext:6' shape=(None,) dtype=float32>, 'slope': <tf.Tensor 'IteratorGetNext:9' shape=(None,) dtype=int64>, 'ca': <tf.Tensor 'IteratorGetNext:1' shape=(None,) dtype=int64>, 'thal': <tf.Tensor 'IteratorGetNext:10' shape=(None,) dtype=int64>}. Consider rewriting this model with the Functional API.\n",
      "1/1 [==============================] - 1s 665ms/step\n",
      "WARNING:tensorflow:Layers in a Sequential model should only have a single input tensor. Received: inputs={'age': <tf.Tensor 'age:0' shape=(None,) dtype=int64>, 'sex': <tf.Tensor 'sex:0' shape=(None,) dtype=int64>, 'cp': <tf.Tensor 'cp:0' shape=(None,) dtype=int64>, 'trestbps': <tf.Tensor 'trestbps:0' shape=(None,) dtype=int64>, 'chol': <tf.Tensor 'chol:0' shape=(None,) dtype=int64>, 'fbs': <tf.Tensor 'fbs:0' shape=(None,) dtype=int64>, 'restecg': <tf.Tensor 'restecg:0' shape=(None,) dtype=int64>, 'thalach': <tf.Tensor 'thalach:0' shape=(None,) dtype=int64>, 'exang': <tf.Tensor 'exang:0' shape=(None,) dtype=int64>, 'oldpeak': <tf.Tensor 'oldpeak:0' shape=(None,) dtype=float64>, 'slope': <tf.Tensor 'slope:0' shape=(None,) dtype=int64>, 'ca': <tf.Tensor 'ca:0' shape=(None,) dtype=int64>, 'thal': <tf.Tensor 'thal:0' shape=(None,) dtype=int64>}. Consider rewriting this model with the Functional API.\n",
      "WARNING:tensorflow:Layers in a Sequential model should only have a single input tensor. Received: inputs={'age': <tf.Tensor 'age:0' shape=(None,) dtype=int64>, 'sex': <tf.Tensor 'sex:0' shape=(None,) dtype=int64>, 'cp': <tf.Tensor 'cp:0' shape=(None,) dtype=int64>, 'trestbps': <tf.Tensor 'trestbps:0' shape=(None,) dtype=int64>, 'chol': <tf.Tensor 'chol:0' shape=(None,) dtype=int64>, 'fbs': <tf.Tensor 'fbs:0' shape=(None,) dtype=int64>, 'restecg': <tf.Tensor 'restecg:0' shape=(None,) dtype=int64>, 'thalach': <tf.Tensor 'thalach:0' shape=(None,) dtype=int64>, 'exang': <tf.Tensor 'exang:0' shape=(None,) dtype=int64>, 'oldpeak': <tf.Tensor 'oldpeak:0' shape=(None,) dtype=float64>, 'slope': <tf.Tensor 'slope:0' shape=(None,) dtype=int64>, 'ca': <tf.Tensor 'ca:0' shape=(None,) dtype=int64>, 'thal': <tf.Tensor 'thal:0' shape=(None,) dtype=int64>}. Consider rewriting this model with the Functional API.\n",
      "WARNING:tensorflow:Layers in a Sequential model should only have a single input tensor. Received: inputs={'age': <tf.Tensor 'age:0' shape=(None,) dtype=int64>, 'sex': <tf.Tensor 'sex:0' shape=(None,) dtype=int64>, 'cp': <tf.Tensor 'cp:0' shape=(None,) dtype=int64>, 'trestbps': <tf.Tensor 'trestbps:0' shape=(None,) dtype=int64>, 'chol': <tf.Tensor 'chol:0' shape=(None,) dtype=int64>, 'fbs': <tf.Tensor 'fbs:0' shape=(None,) dtype=int64>, 'restecg': <tf.Tensor 'restecg:0' shape=(None,) dtype=int64>, 'thalach': <tf.Tensor 'thalach:0' shape=(None,) dtype=int64>, 'exang': <tf.Tensor 'exang:0' shape=(None,) dtype=int64>, 'oldpeak': <tf.Tensor 'oldpeak:0' shape=(None,) dtype=float64>, 'slope': <tf.Tensor 'slope:0' shape=(None,) dtype=int64>, 'ca': <tf.Tensor 'ca:0' shape=(None,) dtype=int64>, 'thal': <tf.Tensor 'thal:0' shape=(None,) dtype=int64>}. Consider rewriting this model with the Functional API.\n",
      "WARNING:tensorflow:Layers in a Sequential model should only have a single input tensor. Received: inputs={'age': <tf.Tensor 'inputs:0' shape=(None,) dtype=int64>, 'sex': <tf.Tensor 'inputs_1:0' shape=(None,) dtype=int64>, 'cp': <tf.Tensor 'inputs_2:0' shape=(None,) dtype=int64>, 'trestbps': <tf.Tensor 'inputs_3:0' shape=(None,) dtype=int64>, 'chol': <tf.Tensor 'inputs_4:0' shape=(None,) dtype=int64>, 'fbs': <tf.Tensor 'inputs_5:0' shape=(None,) dtype=int64>, 'restecg': <tf.Tensor 'inputs_6:0' shape=(None,) dtype=int64>, 'thalach': <tf.Tensor 'inputs_7:0' shape=(None,) dtype=int64>, 'exang': <tf.Tensor 'inputs_8:0' shape=(None,) dtype=int64>, 'oldpeak': <tf.Tensor 'inputs_9:0' shape=(None,) dtype=float64>, 'slope': <tf.Tensor 'inputs_10:0' shape=(None,) dtype=int64>, 'ca': <tf.Tensor 'inputs_11:0' shape=(None,) dtype=int64>, 'thal': <tf.Tensor 'inputs_12:0' shape=(None,) dtype=int64>}. Consider rewriting this model with the Functional API.\n",
      "WARNING:tensorflow:Layers in a Sequential model should only have a single input tensor. Received: inputs={'age': <tf.Tensor 'inputs:0' shape=(None,) dtype=int64>, 'sex': <tf.Tensor 'inputs_1:0' shape=(None,) dtype=int64>, 'cp': <tf.Tensor 'inputs_2:0' shape=(None,) dtype=int64>, 'trestbps': <tf.Tensor 'inputs_3:0' shape=(None,) dtype=int64>, 'chol': <tf.Tensor 'inputs_4:0' shape=(None,) dtype=int64>, 'fbs': <tf.Tensor 'inputs_5:0' shape=(None,) dtype=int64>, 'restecg': <tf.Tensor 'inputs_6:0' shape=(None,) dtype=int64>, 'thalach': <tf.Tensor 'inputs_7:0' shape=(None,) dtype=int64>, 'exang': <tf.Tensor 'inputs_8:0' shape=(None,) dtype=int64>, 'oldpeak': <tf.Tensor 'inputs_9:0' shape=(None,) dtype=float64>, 'slope': <tf.Tensor 'inputs_10:0' shape=(None,) dtype=int64>, 'ca': <tf.Tensor 'inputs_11:0' shape=(None,) dtype=int64>, 'thal': <tf.Tensor 'inputs_12:0' shape=(None,) dtype=int64>}. Consider rewriting this model with the Functional API.\n",
      "WARNING:tensorflow:Layers in a Sequential model should only have a single input tensor. Received: inputs={'age': <tf.Tensor 'inputs_age:0' shape=(None,) dtype=int64>, 'sex': <tf.Tensor 'inputs_sex:0' shape=(None,) dtype=int64>, 'cp': <tf.Tensor 'inputs_cp:0' shape=(None,) dtype=int64>, 'trestbps': <tf.Tensor 'inputs_trestbps:0' shape=(None,) dtype=int64>, 'chol': <tf.Tensor 'inputs_chol:0' shape=(None,) dtype=int64>, 'fbs': <tf.Tensor 'inputs_fbs:0' shape=(None,) dtype=int64>, 'restecg': <tf.Tensor 'inputs_restecg:0' shape=(None,) dtype=int64>, 'thalach': <tf.Tensor 'inputs_thalach:0' shape=(None,) dtype=int64>, 'exang': <tf.Tensor 'inputs_exang:0' shape=(None,) dtype=int64>, 'oldpeak': <tf.Tensor 'inputs_oldpeak:0' shape=(None,) dtype=float64>, 'slope': <tf.Tensor 'inputs_slope:0' shape=(None,) dtype=int64>, 'ca': <tf.Tensor 'inputs_ca:0' shape=(None,) dtype=int64>, 'thal': <tf.Tensor 'inputs_thal:0' shape=(None,) dtype=int64>}. Consider rewriting this model with the Functional API.\n",
      "WARNING:tensorflow:Layers in a Sequential model should only have a single input tensor. Received: inputs={'age': <tf.Tensor 'inputs_age:0' shape=(None,) dtype=int64>, 'sex': <tf.Tensor 'inputs_sex:0' shape=(None,) dtype=int64>, 'cp': <tf.Tensor 'inputs_cp:0' shape=(None,) dtype=int64>, 'trestbps': <tf.Tensor 'inputs_trestbps:0' shape=(None,) dtype=int64>, 'chol': <tf.Tensor 'inputs_chol:0' shape=(None,) dtype=int64>, 'fbs': <tf.Tensor 'inputs_fbs:0' shape=(None,) dtype=int64>, 'restecg': <tf.Tensor 'inputs_restecg:0' shape=(None,) dtype=int64>, 'thalach': <tf.Tensor 'inputs_thalach:0' shape=(None,) dtype=int64>, 'exang': <tf.Tensor 'inputs_exang:0' shape=(None,) dtype=int64>, 'oldpeak': <tf.Tensor 'inputs_oldpeak:0' shape=(None,) dtype=float64>, 'slope': <tf.Tensor 'inputs_slope:0' shape=(None,) dtype=int64>, 'ca': <tf.Tensor 'inputs_ca:0' shape=(None,) dtype=int64>, 'thal': <tf.Tensor 'inputs_thal:0' shape=(None,) dtype=int64>}. Consider rewriting this model with the Functional API.\n"
     ]
    },
    {
     "name": "stderr",
     "output_type": "stream",
     "text": [
      "WARNING:absl:Found untraced functions such as _update_step_xla while saving (showing 1 of 1). These functions will not be directly callable after loading.\n"
     ]
    },
    {
     "name": "stdout",
     "output_type": "stream",
     "text": [
      "INFO:tensorflow:Assets written to: C:\\Users\\pedro\\AppData\\Local\\Temp\\tmp7e184msk\\model\\data\\model\\assets\n"
     ]
    },
    {
     "name": "stderr",
     "output_type": "stream",
     "text": [
      "INFO:tensorflow:Assets written to: C:\\Users\\pedro\\AppData\\Local\\Temp\\tmp7e184msk\\model\\data\\model\\assets\n",
      "2023/06/27 21:30:31 WARNING mlflow.utils.autologging_utils: MLflow autologging encountered a warning: \"C:\\Users\\pedro\\OneDrive\\Escritorio\\Proyecto_IA_SS\\venv\\lib\\site-packages\\_distutils_hack\\__init__.py:33: UserWarning: Setuptools is replacing distutils.\"\n"
     ]
    }
   ],
   "source": [
    "model = tf.keras.Sequential([\n",
    "  feature_layer,\n",
    "  layers.Dense(128, activation='relu'),\n",
    "  layers.Dense(128, activation='relu'),\n",
    "  layers.Dropout(.1),\n",
    "  layers.Dense(1)\n",
    "])\n",
    "\n",
    "model.compile(optimizer='adam',\n",
    "              loss=tf.keras.losses.BinaryCrossentropy(from_logits=True),\n",
    "              metrics=['accuracy'])\n",
    "\n",
    "history = model.fit(train_ds,\n",
    "          validation_data=val_ds,\n",
    "          epochs=40)"
   ]
  },
  {
   "cell_type": "code",
   "execution_count": 19,
   "id": "968c3405",
   "metadata": {},
   "outputs": [
    {
     "data": {
      "image/png": "[encoded data removed]",
      "text/plain": [
       "<Figure size 1000x500 with 2 Axes>"
      ]
     },
     "metadata": {},
     "output_type": "display_data"
    }
   ],
   "source": [
    "training_plot(['loss','accuracy'], history)"
   ]
  },
  {
   "cell_type": "code",
   "execution_count": null,
   "id": "908edcd5",
   "metadata": {},
   "outputs": [],
   "source": []
  }
 ],
 "metadata": {
  "kernelspec": {
   "display_name": "venv",
   "language": "python",
   "name": "venv"
  },
  "language_info": {
   "codemirror_mode": {
    "name": "ipython",
    "version": 3
   },
   "file_extension": ".py",
   "mimetype": "text/x-python",
   "name": "python",
   "nbconvert_exporter": "python",
   "pygments_lexer": "ipython3",
   "version": "3.10.11"
  }
 },
 "nbformat": 4,
 "nbformat_minor": 5
}
