{
 "cells": [
  {
   "cell_type": "markdown",
   "id": "55b1a62b",
   "metadata": {},
   "source": [
    "# Tensorflow tf.data API"
   ]
  },
  {
   "cell_type": "code",
   "execution_count": 21,
   "id": "d9989b3c",
   "metadata": {},
   "outputs": [],
   "source": [
    "import pandas as pd\n",
    "import numpy as np\n",
    "import tensorflow as tf\n",
    "from tensorflow.keras import layers"
   ]
  },
  {
   "cell_type": "code",
   "execution_count": 2,
   "id": "6cd69c62",
   "metadata": {},
   "outputs": [
    {
     "data": {
      "text/html": [
       "<div>\n",
       "<style scoped>\n",
       "    .dataframe tbody tr th:only-of-type {\n",
       "        vertical-align: middle;\n",
       "    }\n",
       "\n",
       "    .dataframe tbody tr th {\n",
       "        vertical-align: top;\n",
       "    }\n",
       "\n",
       "    .dataframe thead th {\n",
       "        text-align: right;\n",
       "    }\n",
       "</style>\n",
       "<table border=\"1\" class=\"dataframe\">\n",
       "  <thead>\n",
       "    <tr style=\"text-align: right;\">\n",
       "      <th></th>\n",
       "      <th>age</th>\n",
       "      <th>sex</th>\n",
       "      <th>cp</th>\n",
       "      <th>trestbps</th>\n",
       "      <th>chol</th>\n",
       "      <th>fbs</th>\n",
       "      <th>restecg</th>\n",
       "      <th>thalach</th>\n",
       "      <th>exang</th>\n",
       "      <th>oldpeak</th>\n",
       "      <th>slope</th>\n",
       "      <th>ca</th>\n",
       "      <th>thal</th>\n",
       "      <th>target</th>\n",
       "    </tr>\n",
       "  </thead>\n",
       "  <tbody>\n",
       "    <tr>\n",
       "      <th>0</th>\n",
       "      <td>63</td>\n",
       "      <td>1</td>\n",
       "      <td>3</td>\n",
       "      <td>145</td>\n",
       "      <td>233</td>\n",
       "      <td>1</td>\n",
       "      <td>0</td>\n",
       "      <td>150</td>\n",
       "      <td>0</td>\n",
       "      <td>2.3</td>\n",
       "      <td>0</td>\n",
       "      <td>0</td>\n",
       "      <td>1</td>\n",
       "      <td>1</td>\n",
       "    </tr>\n",
       "    <tr>\n",
       "      <th>1</th>\n",
       "      <td>37</td>\n",
       "      <td>1</td>\n",
       "      <td>2</td>\n",
       "      <td>130</td>\n",
       "      <td>250</td>\n",
       "      <td>0</td>\n",
       "      <td>1</td>\n",
       "      <td>187</td>\n",
       "      <td>0</td>\n",
       "      <td>3.5</td>\n",
       "      <td>0</td>\n",
       "      <td>0</td>\n",
       "      <td>2</td>\n",
       "      <td>1</td>\n",
       "    </tr>\n",
       "    <tr>\n",
       "      <th>2</th>\n",
       "      <td>41</td>\n",
       "      <td>0</td>\n",
       "      <td>1</td>\n",
       "      <td>130</td>\n",
       "      <td>204</td>\n",
       "      <td>0</td>\n",
       "      <td>0</td>\n",
       "      <td>172</td>\n",
       "      <td>0</td>\n",
       "      <td>1.4</td>\n",
       "      <td>2</td>\n",
       "      <td>0</td>\n",
       "      <td>2</td>\n",
       "      <td>1</td>\n",
       "    </tr>\n",
       "    <tr>\n",
       "      <th>3</th>\n",
       "      <td>56</td>\n",
       "      <td>1</td>\n",
       "      <td>1</td>\n",
       "      <td>120</td>\n",
       "      <td>236</td>\n",
       "      <td>0</td>\n",
       "      <td>1</td>\n",
       "      <td>178</td>\n",
       "      <td>0</td>\n",
       "      <td>0.8</td>\n",
       "      <td>2</td>\n",
       "      <td>0</td>\n",
       "      <td>2</td>\n",
       "      <td>1</td>\n",
       "    </tr>\n",
       "    <tr>\n",
       "      <th>4</th>\n",
       "      <td>57</td>\n",
       "      <td>0</td>\n",
       "      <td>0</td>\n",
       "      <td>120</td>\n",
       "      <td>354</td>\n",
       "      <td>0</td>\n",
       "      <td>1</td>\n",
       "      <td>163</td>\n",
       "      <td>1</td>\n",
       "      <td>0.6</td>\n",
       "      <td>2</td>\n",
       "      <td>0</td>\n",
       "      <td>2</td>\n",
       "      <td>1</td>\n",
       "    </tr>\n",
       "  </tbody>\n",
       "</table>\n",
       "</div>"
      ],
      "text/plain": [
       "   age  sex  cp  trestbps  chol  fbs  restecg  thalach  exang  oldpeak  slope  \\\n",
       "0   63    1   3       145   233    1        0      150      0      2.3      0   \n",
       "1   37    1   2       130   250    0        1      187      0      3.5      0   \n",
       "2   41    0   1       130   204    0        0      172      0      1.4      2   \n",
       "3   56    1   1       120   236    0        1      178      0      0.8      2   \n",
       "4   57    0   0       120   354    0        1      163      1      0.6      2   \n",
       "\n",
       "   ca  thal  target  \n",
       "0   0     1       1  \n",
       "1   0     2       1  \n",
       "2   0     2       1  \n",
       "3   0     2       1  \n",
       "4   0     2       1  "
      ]
     },
     "execution_count": 2,
     "metadata": {},
     "output_type": "execute_result"
    }
   ],
   "source": [
    "data = pd.read_csv(\"heart.csv\")\n",
    "data.head()"
   ]
  },
  {
   "cell_type": "code",
   "execution_count": 43,
   "id": "eb25512e",
   "metadata": {},
   "outputs": [],
   "source": [
    "file_data = tf.keras.utils.get_file(origin=\"https://www.kaggle.com/datasets/fedesoriano/heart-failure-prediction?select=heart.csv\")"
   ]
  },
  {
   "cell_type": "code",
   "execution_count": 45,
   "id": "ca0f60b5",
   "metadata": {},
   "outputs": [],
   "source": [
    "column_names = [\"age\", \"sex\", \"cp\", \"trestbps\", \"chol\", \"fbs\", \"restecg\", \"thalach\", \"exang\", \"oldpeak\", \"slope\", \"ca\", \"thal\", \"target\"]\n",
    "\n",
    "heart_csv_ds = tf.data.experimental.make_csv_dataset(\"heart.csv\", \n",
    "                                                     batch_size=10,\n",
    "                                                     num_epochs=1,\n",
    "                                                    column_names=column_names,\n",
    "                                                    label_name=column_names[-1],\n",
    "                                                    header=True,\n",
    "                                                    shuffle=True)"
   ]
  },
  {
   "cell_type": "code",
   "execution_count": 26,
   "id": "081e05f8",
   "metadata": {},
   "outputs": [
    {
     "data": {
      "text/plain": [
       "<PrefetchDataset element_spec=(OrderedDict([('age', TensorSpec(shape=(None,), dtype=tf.int32, name=None)), ('sex', TensorSpec(shape=(None,), dtype=tf.int32, name=None)), ('cp', TensorSpec(shape=(None,), dtype=tf.int32, name=None)), ('trestbps', TensorSpec(shape=(None,), dtype=tf.int32, name=None)), ('chol', TensorSpec(shape=(None,), dtype=tf.int32, name=None)), ('fbs', TensorSpec(shape=(None,), dtype=tf.int32, name=None)), ('restecg', TensorSpec(shape=(None,), dtype=tf.int32, name=None)), ('thalach', TensorSpec(shape=(None,), dtype=tf.int32, name=None)), ('exang', TensorSpec(shape=(None,), dtype=tf.int32, name=None)), ('oldpeak', TensorSpec(shape=(None,), dtype=tf.float32, name=None)), ('slope', TensorSpec(shape=(None,), dtype=tf.int32, name=None)), ('ca', TensorSpec(shape=(None,), dtype=tf.int32, name=None)), ('thal', TensorSpec(shape=(None,), dtype=tf.int32, name=None))]), TensorSpec(shape=(None,), dtype=tf.int32, name=None))>"
      ]
     },
     "execution_count": 26,
     "metadata": {},
     "output_type": "execute_result"
    }
   ],
   "source": [
    "heart_csv_ds"
   ]
  },
  {
   "cell_type": "code",
   "execution_count": 27,
   "id": "45be391e",
   "metadata": {},
   "outputs": [
    {
     "name": "stdout",
     "output_type": "stream",
     "text": [
      "age                 : [63 59 47 55 60 62 50 50 62 54]\n",
      "sex                 : [1 1 1 1 1 0 1 1 0 1]\n",
      "cp                  : [0 0 2 0 0 2 0 2 0 2]\n",
      "trestbps            : [130 110 130 132 125 130 150 129 150 125]\n",
      "chol                : [330 239 253 353 258 263 243 196 244 273]\n",
      "fbs                 : [1 0 0 0 0 0 0 0 0 0]\n",
      "restecg             : [0 0 1 1 0 1 0 1 1 0]\n",
      "thalach             : [132 142 179 132 141  97 128 163 154 152]\n",
      "exang               : [1 1 0 1 1 0 0 0 1 0]\n",
      "oldpeak             : [1.8 1.2 0.  1.2 2.8 1.2 2.6 0.  1.4 0.5]\n",
      "slope               : [2 1 2 1 1 1 1 2 1 0]\n",
      "ca                  : [3 1 0 1 1 1 0 0 0 1]\n",
      "thal                : [3 3 2 3 3 3 3 2 2 2]\n",
      "\n",
      " label               : [0 0 1 0 0 0 0 1 0 1]\n"
     ]
    }
   ],
   "source": [
    "for batch, label in heart_csv_ds.take(1):\n",
    "    for key, value in batch.items():\n",
    "        print(f\"{key:20s}: {value}\")\n",
    "    print(\"\\n\", f\"{'label':20s}: {label}\")"
   ]
  },
  {
   "cell_type": "code",
   "execution_count": 28,
   "id": "c611c93d",
   "metadata": {},
   "outputs": [
    {
     "name": "stdout",
     "output_type": "stream",
     "text": [
      "................\n",
      "CPU times: total: 1.5 s\n",
      "Wall time: 888 ms\n"
     ]
    }
   ],
   "source": [
    "%%time\n",
    "for i, (batch, label) in enumerate(heart_csv_ds.repeat(20)):\n",
    "    if i % 40 == 0:\n",
    "        print('.', end='')\n",
    "print()"
   ]
  },
  {
   "cell_type": "code",
   "execution_count": 42,
   "id": "fc6d4d8a",
   "metadata": {},
   "outputs": [
    {
     "name": "stdout",
     "output_type": "stream",
     "text": [
      "tf.Tensor([49 51 58 58 44 65 70 67 59 39], shape=(10,), dtype=int32)\n",
      "tf.Tensor([0 0 1 0 1 1 1 1 0 1], shape=(10,), dtype=int32)\n",
      "tf.Tensor([1 2 2 0 2 3 1 2 0 2], shape=(10,), dtype=int32)\n",
      "tf.Tensor([134 140 140 100 120 138 156 152 174 140], shape=(10,), dtype=int32)\n",
      "tf.Tensor([271 308 211 248 226 282 245 212 249 321], shape=(10,), dtype=int32)\n",
      "tf.Tensor([0 0 1 0 0 1 0 0 0 0], shape=(10,), dtype=int32)\n",
      "tf.Tensor([1 0 0 0 1 0 0 0 1 0], shape=(10,), dtype=int32)\n",
      "tf.Tensor([162 142 165 122 169 174 143 150 143 182], shape=(10,), dtype=int32)\n",
      "tf.Tensor([0 0 0 0 0 0 0 0 1 0], shape=(10,), dtype=int32)\n",
      "tf.Tensor([0.  1.5 0.  1.  0.  1.4 0.  0.8 0.  0. ], shape=(10,), dtype=float32)\n",
      "tf.Tensor([1 2 2 1 2 1 2 1 1 2], shape=(10,), dtype=int32)\n",
      "tf.Tensor([0 1 0 0 0 1 0 0 0 0], shape=(10,), dtype=int32)\n",
      "tf.Tensor([2 2 2 2 2 2 2 3 2 2], shape=(10,), dtype=int32)\n",
      "tf.Tensor([1 1 1 1 1 0 1 0 0 1], shape=(10,), dtype=int32)\n"
     ]
    }
   ],
   "source": [
    "for element, label in heart_csv_ds.take(1):\n",
    "    for key, value in element.items():\n",
    "        print(value)\n",
    "    print(label)"
   ]
  },
  {
   "cell_type": "code",
   "execution_count": 58,
   "id": "69775df5",
   "metadata": {},
   "outputs": [
    {
     "name": "stdout",
     "output_type": "stream",
     "text": [
      "(OrderedDict([('age', array([58, 43, 55, 56, 45, 61, 58, 71, 61, 64])), ('sex', array([0, 0, 1, 0, 1, 1, 0, 0, 1, 1])), ('cp', array([0, 2, 0, 0, 0, 2, 1, 1, 0, 3])), ('trestbps', array([100, 122, 160, 134, 104, 150, 136, 160, 138, 170])), ('chol', array([248, 213, 289, 409, 208, 243, 319, 302, 166, 227])), ('fbs', array([0, 0, 0, 0, 0, 1, 1, 0, 0, 0])), ('restecg', array([0, 1, 0, 0, 0, 1, 0, 1, 0, 0])), ('thalach', array([122, 165, 145, 150, 148, 137, 152, 162, 125, 155])), ('exang', array([0, 0, 1, 1, 1, 1, 0, 0, 1, 0])), ('oldpeak', array([1. , 0.2, 0.8, 1.9, 3. , 1. , 0. , 0.4, 3.6, 0.6], dtype=float32)), ('slope', array([1, 1, 1, 1, 1, 1, 2, 2, 1, 1])), ('ca', array([0, 0, 1, 2, 0, 0, 2, 2, 1, 0])), ('thal', array([2, 2, 3, 3, 2, 2, 2, 2, 2, 3]))]), array([1, 1, 0, 0, 1, 1, 0, 1, 0, 1]))\n"
     ]
    }
   ],
   "source": [
    "iterator = heart_csv_ds.as_numpy_iterator()\n",
    "print(next(iterator))"
   ]
  },
  {
   "cell_type": "code",
   "execution_count": 94,
   "id": "4fe42f6c",
   "metadata": {},
   "outputs": [],
   "source": [
    "model = tf.keras.Sequential([\n",
    "  layers.Dense(128, activation='relu', input_shape=(1,)),\n",
    "  layers.Dense(128, activation='relu'),\n",
    "  layers.Dropout(.1),\n",
    "  layers.Dense(1)\n",
    "])\n",
    "\n",
    "model.compile(optimizer='adam',\n",
    "              loss=tf.keras.losses.BinaryCrossentropy(from_logits=True),\n",
    "              metrics=['accuracy'])"
   ]
  },
  {
   "cell_type": "code",
   "execution_count": 95,
   "id": "a39f07bb",
   "metadata": {},
   "outputs": [
    {
     "name": "stdout",
     "output_type": "stream",
     "text": [
      "Model: \"sequential_4\"\n",
      "_________________________________________________________________\n",
      " Layer (type)                Output Shape              Param #   \n",
      "=================================================================\n",
      " dense_12 (Dense)            (None, 128)               256       \n",
      "                                                                 \n",
      " dense_13 (Dense)            (None, 128)               16512     \n",
      "                                                                 \n",
      " dropout_4 (Dropout)         (None, 128)               0         \n",
      "                                                                 \n",
      " dense_14 (Dense)            (None, 1)                 129       \n",
      "                                                                 \n",
      "=================================================================\n",
      "Total params: 16,897\n",
      "Trainable params: 16,897\n",
      "Non-trainable params: 0\n",
      "_________________________________________________________________\n"
     ]
    }
   ],
   "source": [
    "model.summary()"
   ]
  },
  {
   "cell_type": "code",
   "execution_count": 134,
   "id": "cdbe9af0",
   "metadata": {},
   "outputs": [],
   "source": [
    "heart_ds = tf.data.Dataset"
   ]
  },
  {
   "cell_type": "code",
   "execution_count": 135,
   "id": "52c76ae1",
   "metadata": {},
   "outputs": [
    {
     "data": {
      "text/plain": [
       "tensorflow.python.data.ops.dataset_ops.DatasetV2"
      ]
     },
     "execution_count": 135,
     "metadata": {},
     "output_type": "execute_result"
    }
   ],
   "source": [
    "heart_ds"
   ]
  },
  {
   "cell_type": "code",
   "execution_count": 136,
   "id": "0f3b9c1a",
   "metadata": {},
   "outputs": [],
   "source": [
    "for element, label in heart_csv_ds.take(1):\n",
    "    for key, value in element.items():\n",
    "        heart_ds = heart_ds.from_tensor_slices((value, label))"
   ]
  },
  {
   "cell_type": "code",
   "execution_count": 137,
   "id": "73752e2a",
   "metadata": {},
   "outputs": [
    {
     "data": {
      "text/plain": [
       "<TensorSliceDataset element_spec=(TensorSpec(shape=(), dtype=tf.int32, name=None), TensorSpec(shape=(), dtype=tf.int32, name=None))>"
      ]
     },
     "execution_count": 137,
     "metadata": {},
     "output_type": "execute_result"
    }
   ],
   "source": [
    "heart_ds"
   ]
  },
  {
   "cell_type": "code",
   "execution_count": 141,
   "id": "6340da44",
   "metadata": {},
   "outputs": [],
   "source": [
    "for element, label in heart_csv_ds.take(-1):\n",
    "    heart_features_dict = {name: np.array(value)\n",
    "                         for name, value in element.items()}"
   ]
  },
  {
   "cell_type": "code",
   "execution_count": 142,
   "id": "d68900b2",
   "metadata": {},
   "outputs": [
    {
     "data": {
      "text/plain": [
       "{'age': array([60, 50, 48]),\n",
       " 'sex': array([1, 1, 1]),\n",
       " 'cp': array([0, 0, 0]),\n",
       " 'trestbps': array([125, 144, 124]),\n",
       " 'chol': array([258, 200, 274]),\n",
       " 'fbs': array([0, 0, 0]),\n",
       " 'restecg': array([0, 0, 0]),\n",
       " 'thalach': array([141, 126, 166]),\n",
       " 'exang': array([1, 1, 0]),\n",
       " 'oldpeak': array([2.8, 0.9, 0.5], dtype=float32),\n",
       " 'slope': array([1, 1, 1]),\n",
       " 'ca': array([1, 0, 0]),\n",
       " 'thal': array([3, 3, 3])}"
      ]
     },
     "execution_count": 142,
     "metadata": {},
     "output_type": "execute_result"
    }
   ],
   "source": [
    "heart_features_dict"
   ]
  },
  {
   "cell_type": "code",
   "execution_count": 144,
   "id": "2e9f3b28",
   "metadata": {},
   "outputs": [
    {
     "data": {
      "text/plain": [
       "<TensorSliceDataset element_spec={'age': TensorSpec(shape=(), dtype=tf.int32, name=None), 'sex': TensorSpec(shape=(), dtype=tf.int32, name=None), 'cp': TensorSpec(shape=(), dtype=tf.int32, name=None), 'trestbps': TensorSpec(shape=(), dtype=tf.int32, name=None), 'chol': TensorSpec(shape=(), dtype=tf.int32, name=None), 'fbs': TensorSpec(shape=(), dtype=tf.int32, name=None), 'restecg': TensorSpec(shape=(), dtype=tf.int32, name=None), 'thalach': TensorSpec(shape=(), dtype=tf.int32, name=None), 'exang': TensorSpec(shape=(), dtype=tf.int32, name=None), 'oldpeak': TensorSpec(shape=(), dtype=tf.float32, name=None), 'slope': TensorSpec(shape=(), dtype=tf.int32, name=None), 'ca': TensorSpec(shape=(), dtype=tf.int32, name=None), 'thal': TensorSpec(shape=(), dtype=tf.int32, name=None)}>"
      ]
     },
     "execution_count": 144,
     "metadata": {},
     "output_type": "execute_result"
    }
   ],
   "source": [
    "heart_ds = tf.data.Dataset.from_tensor_slices(heart_features_dict)\n",
    "heart_ds"
   ]
  },
  {
   "cell_type": "code",
   "execution_count": 138,
   "id": "01828cf8",
   "metadata": {
    "scrolled": true
   },
   "outputs": [
    {
     "name": "stdout",
     "output_type": "stream",
     "text": [
      "Epoch 1/5\n"
     ]
    },
    {
     "ename": "TypeError",
     "evalue": "'NoneType' object is not callable",
     "output_type": "error",
     "traceback": [
      "\u001b[1;31m---------------------------------------------------------------------------\u001b[0m",
      "\u001b[1;31mTypeError\u001b[0m                                 Traceback (most recent call last)",
      "Cell \u001b[1;32mIn[138], line 2\u001b[0m\n\u001b[0;32m      1\u001b[0m EPOCHS \u001b[38;5;241m=\u001b[39m \u001b[38;5;241m5\u001b[39m   \n\u001b[1;32m----> 2\u001b[0m \u001b[43mmodel\u001b[49m\u001b[38;5;241;43m.\u001b[39;49m\u001b[43mfit\u001b[49m\u001b[43m(\u001b[49m\u001b[43mheart_ds\u001b[49m\u001b[43m,\u001b[49m\u001b[43m \u001b[49m\u001b[43mepochs\u001b[49m\u001b[38;5;241;43m=\u001b[39;49m\u001b[43mEPOCHS\u001b[49m\u001b[43m)\u001b[49m\n",
      "File \u001b[1;32m~\\Proyectos\\myenv\\lib\\site-packages\\keras\\utils\\traceback_utils.py:70\u001b[0m, in \u001b[0;36mfilter_traceback.<locals>.error_handler\u001b[1;34m(*args, **kwargs)\u001b[0m\n\u001b[0;32m     67\u001b[0m     filtered_tb \u001b[38;5;241m=\u001b[39m _process_traceback_frames(e\u001b[38;5;241m.\u001b[39m__traceback__)\n\u001b[0;32m     68\u001b[0m     \u001b[38;5;66;03m# To get the full stack trace, call:\u001b[39;00m\n\u001b[0;32m     69\u001b[0m     \u001b[38;5;66;03m# `tf.debugging.disable_traceback_filtering()`\u001b[39;00m\n\u001b[1;32m---> 70\u001b[0m     \u001b[38;5;28;01mraise\u001b[39;00m e\u001b[38;5;241m.\u001b[39mwith_traceback(filtered_tb) \u001b[38;5;28;01mfrom\u001b[39;00m \u001b[38;5;28;01mNone\u001b[39;00m\n\u001b[0;32m     71\u001b[0m \u001b[38;5;28;01mfinally\u001b[39;00m:\n\u001b[0;32m     72\u001b[0m     \u001b[38;5;28;01mdel\u001b[39;00m filtered_tb\n",
      "File \u001b[1;32m~\\Proyectos\\myenv\\lib\\site-packages\\tensorflow\\python\\eager\\polymorphic_function\\polymorphic_function.py:912\u001b[0m, in \u001b[0;36mFunction._call\u001b[1;34m(self, *args, **kwds)\u001b[0m\n\u001b[0;32m    909\u001b[0m   \u001b[38;5;28mself\u001b[39m\u001b[38;5;241m.\u001b[39m_lock\u001b[38;5;241m.\u001b[39mrelease()\n\u001b[0;32m    910\u001b[0m   \u001b[38;5;66;03m# In this case we have created variables on the first call, so we run the\u001b[39;00m\n\u001b[0;32m    911\u001b[0m   \u001b[38;5;66;03m# defunned version which is guaranteed to never create variables.\u001b[39;00m\n\u001b[1;32m--> 912\u001b[0m   \u001b[38;5;28;01mreturn\u001b[39;00m \u001b[38;5;28mself\u001b[39m\u001b[38;5;241m.\u001b[39m_no_variable_creation_fn(\u001b[38;5;241m*\u001b[39margs, \u001b[38;5;241m*\u001b[39m\u001b[38;5;241m*\u001b[39mkwds)  \u001b[38;5;66;03m# pylint: disable=not-callable\u001b[39;00m\n\u001b[0;32m    913\u001b[0m \u001b[38;5;28;01melif\u001b[39;00m \u001b[38;5;28mself\u001b[39m\u001b[38;5;241m.\u001b[39m_variable_creation_fn \u001b[38;5;129;01mis\u001b[39;00m \u001b[38;5;129;01mnot\u001b[39;00m \u001b[38;5;28;01mNone\u001b[39;00m:\n\u001b[0;32m    914\u001b[0m   \u001b[38;5;66;03m# Release the lock early so that multiple threads can perform the call\u001b[39;00m\n\u001b[0;32m    915\u001b[0m   \u001b[38;5;66;03m# in parallel.\u001b[39;00m\n\u001b[0;32m    916\u001b[0m   \u001b[38;5;28mself\u001b[39m\u001b[38;5;241m.\u001b[39m_lock\u001b[38;5;241m.\u001b[39mrelease()\n",
      "\u001b[1;31mTypeError\u001b[0m: 'NoneType' object is not callable"
     ]
    }
   ],
   "source": [
    "EPOCHS = 5   \n",
    "model.fit(heart_ds, epochs=EPOCHS)"
   ]
  },
  {
   "cell_type": "code",
   "execution_count": null,
   "id": "f03a710e",
   "metadata": {},
   "outputs": [],
   "source": []
  }
 ],
 "metadata": {
  "kernelspec": {
   "display_name": "myenv",
   "language": "python",
   "name": "myenv"
  },
  "language_info": {
   "codemirror_mode": {
    "name": "ipython",
    "version": 3
   },
   "file_extension": ".py",
   "mimetype": "text/x-python",
   "name": "python",
   "nbconvert_exporter": "python",
   "pygments_lexer": "ipython3",
   "version": "3.10.11"
  }
 },
 "nbformat": 4,
 "nbformat_minor": 5
}
