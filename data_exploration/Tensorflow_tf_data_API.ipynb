{
 "cells": [
  {
   "cell_type": "markdown",
   "id": "55b1a62b",
   "metadata": {},
   "source": [
    "# Tensorflow tf.data API"
   ]
  },
  {
   "cell_type": "code",
   "execution_count": 1,
   "id": "d9989b3c",
   "metadata": {},
   "outputs": [],
   "source": [
    "import pandas as pd\n",
    "import numpy as np\n",
    "import tensorflow as tf\n",
    "from tensorflow.keras import layers"
   ]
  },
  {
   "cell_type": "code",
   "execution_count": 2,
   "id": "6cd69c62",
   "metadata": {},
   "outputs": [
    {
     "data": {
      "text/html": [
       "<div>\n",
       "<style scoped>\n",
       "    .dataframe tbody tr th:only-of-type {\n",
       "        vertical-align: middle;\n",
       "    }\n",
       "\n",
       "    .dataframe tbody tr th {\n",
       "        vertical-align: top;\n",
       "    }\n",
       "\n",
       "    .dataframe thead th {\n",
       "        text-align: right;\n",
       "    }\n",
       "</style>\n",
       "<table border=\"1\" class=\"dataframe\">\n",
       "  <thead>\n",
       "    <tr style=\"text-align: right;\">\n",
       "      <th></th>\n",
       "      <th>age</th>\n",
       "      <th>sex</th>\n",
       "      <th>cp</th>\n",
       "      <th>trestbps</th>\n",
       "      <th>chol</th>\n",
       "      <th>fbs</th>\n",
       "      <th>restecg</th>\n",
       "      <th>thalach</th>\n",
       "      <th>exang</th>\n",
       "      <th>oldpeak</th>\n",
       "      <th>slope</th>\n",
       "      <th>ca</th>\n",
       "      <th>thal</th>\n",
       "      <th>target</th>\n",
       "    </tr>\n",
       "  </thead>\n",
       "  <tbody>\n",
       "    <tr>\n",
       "      <th>0</th>\n",
       "      <td>63</td>\n",
       "      <td>1</td>\n",
       "      <td>3</td>\n",
       "      <td>145</td>\n",
       "      <td>233</td>\n",
       "      <td>1</td>\n",
       "      <td>0</td>\n",
       "      <td>150</td>\n",
       "      <td>0</td>\n",
       "      <td>2.3</td>\n",
       "      <td>0</td>\n",
       "      <td>0</td>\n",
       "      <td>1</td>\n",
       "      <td>1</td>\n",
       "    </tr>\n",
       "    <tr>\n",
       "      <th>1</th>\n",
       "      <td>37</td>\n",
       "      <td>1</td>\n",
       "      <td>2</td>\n",
       "      <td>130</td>\n",
       "      <td>250</td>\n",
       "      <td>0</td>\n",
       "      <td>1</td>\n",
       "      <td>187</td>\n",
       "      <td>0</td>\n",
       "      <td>3.5</td>\n",
       "      <td>0</td>\n",
       "      <td>0</td>\n",
       "      <td>2</td>\n",
       "      <td>1</td>\n",
       "    </tr>\n",
       "    <tr>\n",
       "      <th>2</th>\n",
       "      <td>41</td>\n",
       "      <td>0</td>\n",
       "      <td>1</td>\n",
       "      <td>130</td>\n",
       "      <td>204</td>\n",
       "      <td>0</td>\n",
       "      <td>0</td>\n",
       "      <td>172</td>\n",
       "      <td>0</td>\n",
       "      <td>1.4</td>\n",
       "      <td>2</td>\n",
       "      <td>0</td>\n",
       "      <td>2</td>\n",
       "      <td>1</td>\n",
       "    </tr>\n",
       "    <tr>\n",
       "      <th>3</th>\n",
       "      <td>56</td>\n",
       "      <td>1</td>\n",
       "      <td>1</td>\n",
       "      <td>120</td>\n",
       "      <td>236</td>\n",
       "      <td>0</td>\n",
       "      <td>1</td>\n",
       "      <td>178</td>\n",
       "      <td>0</td>\n",
       "      <td>0.8</td>\n",
       "      <td>2</td>\n",
       "      <td>0</td>\n",
       "      <td>2</td>\n",
       "      <td>1</td>\n",
       "    </tr>\n",
       "    <tr>\n",
       "      <th>4</th>\n",
       "      <td>57</td>\n",
       "      <td>0</td>\n",
       "      <td>0</td>\n",
       "      <td>120</td>\n",
       "      <td>354</td>\n",
       "      <td>0</td>\n",
       "      <td>1</td>\n",
       "      <td>163</td>\n",
       "      <td>1</td>\n",
       "      <td>0.6</td>\n",
       "      <td>2</td>\n",
       "      <td>0</td>\n",
       "      <td>2</td>\n",
       "      <td>1</td>\n",
       "    </tr>\n",
       "  </tbody>\n",
       "</table>\n",
       "</div>"
      ],
      "text/plain": [
       "   age  sex  cp  trestbps  chol  fbs  restecg  thalach  exang  oldpeak  slope  \\\n",
       "0   63    1   3       145   233    1        0      150      0      2.3      0   \n",
       "1   37    1   2       130   250    0        1      187      0      3.5      0   \n",
       "2   41    0   1       130   204    0        0      172      0      1.4      2   \n",
       "3   56    1   1       120   236    0        1      178      0      0.8      2   \n",
       "4   57    0   0       120   354    0        1      163      1      0.6      2   \n",
       "\n",
       "   ca  thal  target  \n",
       "0   0     1       1  \n",
       "1   0     2       1  \n",
       "2   0     2       1  \n",
       "3   0     2       1  \n",
       "4   0     2       1  "
      ]
     },
     "execution_count": 2,
     "metadata": {},
     "output_type": "execute_result"
    }
   ],
   "source": [
    "data = pd.read_csv(\"heart.csv\")\n",
    "data.head()"
   ]
  },
  {
   "cell_type": "code",
   "execution_count": 3,
   "id": "eb25512e",
   "metadata": {},
   "outputs": [],
   "source": [
    "file_data = tf.keras.utils.get_file(origin=\"https://www.kaggle.com/datasets/fedesoriano/heart-failure-prediction?select=heart.csv\")"
   ]
  },
  {
   "cell_type": "code",
   "execution_count": 4,
   "id": "ca0f60b5",
   "metadata": {},
   "outputs": [],
   "source": [
    "column_names = [\"age\", \"sex\", \"cp\", \"trestbps\", \"chol\", \"fbs\", \"restecg\", \"thalach\", \"exang\", \"oldpeak\", \"slope\", \"ca\", \"thal\", \"target\"]\n",
    "\n",
    "heart_csv_ds = tf.data.experimental.make_csv_dataset(\"heart.csv\", \n",
    "                                                     batch_size=10,\n",
    "                                                     num_epochs=1,\n",
    "                                                    column_names=column_names,\n",
    "                                                    label_name=column_names[-1],\n",
    "                                                    header=True,\n",
    "                                                    shuffle=True)"
   ]
  },
  {
   "cell_type": "code",
   "execution_count": 5,
   "id": "081e05f8",
   "metadata": {},
   "outputs": [
    {
     "data": {
      "text/plain": [
       "<PrefetchDataset element_spec=(OrderedDict([('age', TensorSpec(shape=(None,), dtype=tf.int32, name=None)), ('sex', TensorSpec(shape=(None,), dtype=tf.int32, name=None)), ('cp', TensorSpec(shape=(None,), dtype=tf.int32, name=None)), ('trestbps', TensorSpec(shape=(None,), dtype=tf.int32, name=None)), ('chol', TensorSpec(shape=(None,), dtype=tf.int32, name=None)), ('fbs', TensorSpec(shape=(None,), dtype=tf.int32, name=None)), ('restecg', TensorSpec(shape=(None,), dtype=tf.int32, name=None)), ('thalach', TensorSpec(shape=(None,), dtype=tf.int32, name=None)), ('exang', TensorSpec(shape=(None,), dtype=tf.int32, name=None)), ('oldpeak', TensorSpec(shape=(None,), dtype=tf.float32, name=None)), ('slope', TensorSpec(shape=(None,), dtype=tf.int32, name=None)), ('ca', TensorSpec(shape=(None,), dtype=tf.int32, name=None)), ('thal', TensorSpec(shape=(None,), dtype=tf.int32, name=None))]), TensorSpec(shape=(None,), dtype=tf.int32, name=None))>"
      ]
     },
     "execution_count": 5,
     "metadata": {},
     "output_type": "execute_result"
    }
   ],
   "source": [
    "heart_csv_ds"
   ]
  },
  {
   "cell_type": "code",
   "execution_count": 6,
   "id": "45be391e",
   "metadata": {},
   "outputs": [
    {
     "name": "stdout",
     "output_type": "stream",
     "text": [
      "age                 : [49 61 45 41 47 51 60 64 44 56]\n",
      "sex                 : [1 1 1 1 1 1 1 1 1 0]\n",
      "cp                  : [2 3 0 1 0 2 0 2 1 0]\n",
      "trestbps            : [118 134 142 135 112  94 145 140 120 200]\n",
      "chol                : [149 234 309 203 204 227 282 335 263 288]\n",
      "fbs                 : [0 0 0 0 0 0 0 0 0 1]\n",
      "restecg             : [0 1 0 1 1 1 0 1 1 0]\n",
      "thalach             : [126 145 147 132 143 154 142 158 173 133]\n",
      "exang               : [0 0 1 0 0 1 1 0 0 1]\n",
      "oldpeak             : [0.8 2.6 0.  0.  0.1 0.  2.8 0.  0.  4. ]\n",
      "slope               : [2 1 1 1 2 2 1 2 2 0]\n",
      "ca                  : [3 2 3 0 0 1 2 0 0 2]\n",
      "thal                : [2 2 3 1 2 3 3 2 3 3]\n",
      "\n",
      " label               : [0 0 0 1 1 1 0 0 1 0]\n"
     ]
    }
   ],
   "source": [
    "for batch, label in heart_csv_ds.take(1):\n",
    "    for key, value in batch.items():\n",
    "        print(f\"{key:20s}: {value}\")\n",
    "    print(\"\\n\", f\"{'label':20s}: {label}\")"
   ]
  },
  {
   "cell_type": "code",
   "execution_count": 7,
   "id": "c611c93d",
   "metadata": {},
   "outputs": [
    {
     "name": "stdout",
     "output_type": "stream",
     "text": [
      "................\n",
      "CPU times: total: 672 ms\n",
      "Wall time: 437 ms\n"
     ]
    }
   ],
   "source": [
    "%%time\n",
    "for i, (batch, label) in enumerate(heart_csv_ds.repeat(20)):\n",
    "    if i % 40 == 0:\n",
    "        print('.', end='')\n",
    "print()"
   ]
  },
  {
   "cell_type": "code",
   "execution_count": 8,
   "id": "fc6d4d8a",
   "metadata": {},
   "outputs": [
    {
     "name": "stdout",
     "output_type": "stream",
     "text": [
      "tf.Tensor([58 64 63 64 44 56 45 59 42 44], shape=(10,), dtype=int32)\n",
      "tf.Tensor([1 1 0 1 1 0 1 1 0 1], shape=(10,), dtype=int32)\n",
      "tf.Tensor([0 2 0 2 2 1 0 0 2 2], shape=(10,), dtype=int32)\n",
      "tf.Tensor([128 140 108 125 140 140 104 110 120 120], shape=(10,), dtype=int32)\n",
      "tf.Tensor([259 335 269 309 235 294 208 239 209 226], shape=(10,), dtype=int32)\n",
      "tf.Tensor([0 0 0 0 0 0 0 0 0 0], shape=(10,), dtype=int32)\n",
      "tf.Tensor([0 1 1 1 0 0 0 0 1 1], shape=(10,), dtype=int32)\n",
      "tf.Tensor([130 158 169 131 180 153 148 142 173 169], shape=(10,), dtype=int32)\n",
      "tf.Tensor([1 0 1 1 0 0 1 1 0 0], shape=(10,), dtype=int32)\n",
      "tf.Tensor([3.  0.  1.8 1.8 0.  1.3 3.  1.2 0.  0. ], shape=(10,), dtype=float32)\n",
      "tf.Tensor([1 2 1 1 2 1 1 1 1 2], shape=(10,), dtype=int32)\n",
      "tf.Tensor([2 0 2 0 0 0 0 1 0 0], shape=(10,), dtype=int32)\n",
      "tf.Tensor([3 2 2 3 2 2 2 3 2 2], shape=(10,), dtype=int32)\n",
      "tf.Tensor([0 0 0 0 1 1 1 0 1 1], shape=(10,), dtype=int32)\n"
     ]
    }
   ],
   "source": [
    "for element, label in heart_csv_ds.take(1):\n",
    "    for key, value in element.items():\n",
    "        print(value)\n",
    "    print(label)"
   ]
  },
  {
   "cell_type": "code",
   "execution_count": 9,
   "id": "69775df5",
   "metadata": {},
   "outputs": [
    {
     "name": "stdout",
     "output_type": "stream",
     "text": [
      "(OrderedDict([('age', array([70, 59, 46, 70, 64, 58, 52, 50, 52, 64])), ('sex', array([1, 1, 1, 1, 0, 0, 1, 1, 1, 1])), ('cp', array([2, 2, 2, 0, 0, 1, 3, 0, 0, 2])), ('trestbps', array([160, 126, 150, 130, 130, 136, 152, 144, 108, 125])), ('chol', array([269, 218, 231, 322, 303, 319, 298, 200, 233, 309])), ('fbs', array([0, 1, 0, 0, 0, 1, 1, 0, 1, 0])), ('restecg', array([1, 1, 1, 0, 1, 0, 1, 0, 1, 1])), ('thalach', array([112, 134, 147, 109, 122, 152, 178, 126, 147, 131])), ('exang', array([1, 0, 0, 0, 0, 0, 0, 1, 0, 1])), ('oldpeak', array([2.9, 2.2, 3.6, 2.4, 2. , 0. , 1.2, 0.9, 0.1, 1.8], dtype=float32)), ('slope', array([1, 1, 1, 1, 1, 2, 1, 1, 2, 1])), ('ca', array([1, 1, 0, 3, 2, 2, 0, 0, 3, 0])), ('thal', array([3, 1, 2, 2, 2, 2, 3, 3, 3, 3]))]), array([0, 0, 0, 0, 1, 0, 1, 0, 1, 0]))\n"
     ]
    }
   ],
   "source": [
    "iterator = heart_csv_ds.as_numpy_iterator()\n",
    "print(next(iterator))"
   ]
  },
  {
   "cell_type": "code",
   "execution_count": 12,
   "id": "cdbe9af0",
   "metadata": {},
   "outputs": [],
   "source": [
    "heart_ds = tf.data.Dataset"
   ]
  },
  {
   "cell_type": "code",
   "execution_count": 13,
   "id": "52c76ae1",
   "metadata": {},
   "outputs": [
    {
     "data": {
      "text/plain": [
       "tensorflow.python.data.ops.dataset_ops.DatasetV2"
      ]
     },
     "execution_count": 13,
     "metadata": {},
     "output_type": "execute_result"
    }
   ],
   "source": [
    "heart_ds"
   ]
  },
  {
   "cell_type": "code",
   "execution_count": 14,
   "id": "0f3b9c1a",
   "metadata": {},
   "outputs": [],
   "source": [
    "for element, label in heart_csv_ds.take(1):\n",
    "    for key, value in element.items():\n",
    "        heart_ds = heart_ds.from_tensor_slices((value, label))"
   ]
  },
  {
   "cell_type": "code",
   "execution_count": 15,
   "id": "73752e2a",
   "metadata": {},
   "outputs": [
    {
     "data": {
      "text/plain": [
       "<TensorSliceDataset element_spec=(TensorSpec(shape=(), dtype=tf.int32, name=None), TensorSpec(shape=(), dtype=tf.int32, name=None))>"
      ]
     },
     "execution_count": 15,
     "metadata": {},
     "output_type": "execute_result"
    }
   ],
   "source": [
    "heart_ds"
   ]
  },
  {
   "cell_type": "code",
   "execution_count": 41,
   "id": "7bee81e1",
   "metadata": {},
   "outputs": [],
   "source": [
    "# Getting the features\n",
    "heart_features_dict = {name: np.array(value)\n",
    "                        for element, label in heart_csv_ds.take(1)\n",
    "                        for name, value in element.items()}"
   ]
  },
  {
   "cell_type": "code",
   "execution_count": 42,
   "id": "d68900b2",
   "metadata": {},
   "outputs": [
    {
     "data": {
      "text/plain": [
       "{'age': array([67, 57, 52, 63, 69, 50, 34, 59, 37, 46]),\n",
       " 'sex': array([0, 1, 1, 1, 0, 1, 1, 0, 0, 1]),\n",
       " 'cp': array([2, 0, 2, 0, 3, 2, 3, 0, 2, 0]),\n",
       " 'trestbps': array([115, 132, 172, 130, 140, 129, 118, 174, 120, 120]),\n",
       " 'chol': array([564, 207, 199, 254, 239, 196, 182, 249, 215, 249]),\n",
       " 'fbs': array([0, 0, 1, 0, 0, 0, 0, 0, 0, 0]),\n",
       " 'restecg': array([0, 1, 1, 0, 1, 1, 0, 1, 1, 0]),\n",
       " 'thalach': array([160, 168, 162, 147, 151, 163, 174, 143, 170, 144]),\n",
       " 'exang': array([0, 1, 0, 0, 0, 0, 0, 1, 0, 0]),\n",
       " 'oldpeak': array([1.6, 0. , 0.5, 1.4, 1.8, 0. , 0. , 0. , 0. , 0.8], dtype=float32),\n",
       " 'slope': array([1, 2, 2, 1, 2, 2, 2, 1, 2, 2]),\n",
       " 'ca': array([0, 0, 0, 1, 2, 0, 0, 0, 0, 0]),\n",
       " 'thal': array([3, 3, 3, 3, 2, 2, 2, 2, 2, 3])}"
      ]
     },
     "execution_count": 42,
     "metadata": {},
     "output_type": "execute_result"
    }
   ],
   "source": [
    "heart_features_dict"
   ]
  },
  {
   "cell_type": "code",
   "execution_count": 45,
   "id": "6f52424c",
   "metadata": {},
   "outputs": [
    {
     "data": {
      "text/plain": [
       "0      1\n",
       "1      1\n",
       "2      1\n",
       "3      1\n",
       "4      1\n",
       "      ..\n",
       "298    0\n",
       "299    0\n",
       "300    0\n",
       "301    0\n",
       "302    0\n",
       "Name: target, Length: 303, dtype: int64"
      ]
     },
     "execution_count": 45,
     "metadata": {},
     "output_type": "execute_result"
    }
   ],
   "source": [
    "# Getting the labels\n",
    "heart_features = data.copy()\n",
    "heart_labels = heart_features.pop(\"target\")\n",
    "heart_labels"
   ]
  },
  {
   "cell_type": "code",
   "execution_count": 73,
   "id": "119245f9",
   "metadata": {},
   "outputs": [
    {
     "data": {
      "text/plain": [
       "array([[63.,  1.,  3., ...,  0.,  0.,  1.],\n",
       "       [37.,  1.,  2., ...,  0.,  0.,  2.],\n",
       "       [41.,  0.,  1., ...,  2.,  0.,  2.],\n",
       "       ...,\n",
       "       [68.,  1.,  0., ...,  1.,  2.,  3.],\n",
       "       [57.,  1.,  0., ...,  1.,  1.,  3.],\n",
       "       [57.,  0.,  1., ...,  1.,  1.,  2.]])"
      ]
     },
     "execution_count": 73,
     "metadata": {},
     "output_type": "execute_result"
    }
   ],
   "source": [
    "heart_features = np.array(heart_features)\n",
    "heart_features"
   ]
  },
  {
   "cell_type": "code",
   "execution_count": 55,
   "id": "32fbf443",
   "metadata": {},
   "outputs": [],
   "source": [
    "heart_features_new = {name: np.array(value) \n",
    "                         for name, value in heart_features.items()}"
   ]
  },
  {
   "cell_type": "code",
   "execution_count": 49,
   "id": "2e9f3b28",
   "metadata": {},
   "outputs": [
    {
     "data": {
      "text/plain": [
       "<TensorSliceDataset element_spec=({'age': TensorSpec(shape=(), dtype=tf.int64, name=None), 'sex': TensorSpec(shape=(), dtype=tf.int64, name=None), 'cp': TensorSpec(shape=(), dtype=tf.int64, name=None), 'trestbps': TensorSpec(shape=(), dtype=tf.int64, name=None), 'chol': TensorSpec(shape=(), dtype=tf.int64, name=None), 'fbs': TensorSpec(shape=(), dtype=tf.int64, name=None), 'restecg': TensorSpec(shape=(), dtype=tf.int64, name=None), 'thalach': TensorSpec(shape=(), dtype=tf.int64, name=None), 'exang': TensorSpec(shape=(), dtype=tf.int64, name=None), 'oldpeak': TensorSpec(shape=(), dtype=tf.float64, name=None), 'slope': TensorSpec(shape=(), dtype=tf.int64, name=None), 'ca': TensorSpec(shape=(), dtype=tf.int64, name=None), 'thal': TensorSpec(shape=(), dtype=tf.int64, name=None)}, TensorSpec(shape=(), dtype=tf.int64, name=None))>"
      ]
     },
     "execution_count": 49,
     "metadata": {},
     "output_type": "execute_result"
    }
   ],
   "source": [
    "heart_ds = tf.data.Dataset.from_tensor_slices((heart_features_new, heart_labels))\n",
    "heart_ds"
   ]
  },
  {
   "cell_type": "code",
   "execution_count": 53,
   "id": "fefad95d",
   "metadata": {},
   "outputs": [
    {
     "data": {
      "text/plain": [
       "<BatchDataset element_spec=({'age': TensorSpec(shape=(None,), dtype=tf.int64, name=None), 'sex': TensorSpec(shape=(None,), dtype=tf.int64, name=None), 'cp': TensorSpec(shape=(None,), dtype=tf.int64, name=None), 'trestbps': TensorSpec(shape=(None,), dtype=tf.int64, name=None), 'chol': TensorSpec(shape=(None,), dtype=tf.int64, name=None), 'fbs': TensorSpec(shape=(None,), dtype=tf.int64, name=None), 'restecg': TensorSpec(shape=(None,), dtype=tf.int64, name=None), 'thalach': TensorSpec(shape=(None,), dtype=tf.int64, name=None), 'exang': TensorSpec(shape=(None,), dtype=tf.int64, name=None), 'oldpeak': TensorSpec(shape=(None,), dtype=tf.float64, name=None), 'slope': TensorSpec(shape=(None,), dtype=tf.int64, name=None), 'ca': TensorSpec(shape=(None,), dtype=tf.int64, name=None), 'thal': TensorSpec(shape=(None,), dtype=tf.int64, name=None)}, TensorSpec(shape=(None,), dtype=tf.int64, name=None))>"
      ]
     },
     "execution_count": 53,
     "metadata": {},
     "output_type": "execute_result"
    }
   ],
   "source": [
    "heart_batches = heart_ds.shuffle(len(heart_labels)).batch(32)\n",
    "heart_batches"
   ]
  },
  {
   "cell_type": "code",
   "execution_count": 39,
   "id": "408adfaa",
   "metadata": {},
   "outputs": [
    {
     "name": "stdout",
     "output_type": "stream",
     "text": [
      "{'age': 59, 'sex': 1, 'cp': 3, 'trestbps': 134, 'chol': 204, 'fbs': 0, 'restecg': 1, 'thalach': 162, 'exang': 0, 'oldpeak': 0.8, 'slope': 2, 'ca': 2, 'thal': 2}\n",
      "{'age': 61, 'sex': 1, 'cp': 0, 'trestbps': 148, 'chol': 203, 'fbs': 0, 'restecg': 1, 'thalach': 161, 'exang': 0, 'oldpeak': 0.0, 'slope': 2, 'ca': 1, 'thal': 3}\n",
      "{'age': 49, 'sex': 0, 'cp': 0, 'trestbps': 130, 'chol': 269, 'fbs': 0, 'restecg': 1, 'thalach': 163, 'exang': 0, 'oldpeak': 0.0, 'slope': 2, 'ca': 0, 'thal': 2}\n",
      "{'age': 48, 'sex': 1, 'cp': 0, 'trestbps': 124, 'chol': 274, 'fbs': 0, 'restecg': 0, 'thalach': 166, 'exang': 0, 'oldpeak': 0.5, 'slope': 1, 'ca': 0, 'thal': 3}\n",
      "{'age': 42, 'sex': 1, 'cp': 0, 'trestbps': 136, 'chol': 315, 'fbs': 0, 'restecg': 1, 'thalach': 125, 'exang': 1, 'oldpeak': 1.8, 'slope': 1, 'ca': 0, 'thal': 1}\n",
      "{'age': 70, 'sex': 1, 'cp': 0, 'trestbps': 130, 'chol': 322, 'fbs': 0, 'restecg': 0, 'thalach': 109, 'exang': 0, 'oldpeak': 2.4, 'slope': 1, 'ca': 3, 'thal': 2}\n",
      "{'age': 52, 'sex': 1, 'cp': 1, 'trestbps': 120, 'chol': 325, 'fbs': 0, 'restecg': 1, 'thalach': 172, 'exang': 0, 'oldpeak': 0.2, 'slope': 2, 'ca': 0, 'thal': 2}\n",
      "{'age': 70, 'sex': 1, 'cp': 2, 'trestbps': 160, 'chol': 269, 'fbs': 0, 'restecg': 1, 'thalach': 112, 'exang': 1, 'oldpeak': 2.9, 'slope': 1, 'ca': 1, 'thal': 3}\n",
      "{'age': 57, 'sex': 1, 'cp': 0, 'trestbps': 132, 'chol': 207, 'fbs': 0, 'restecg': 1, 'thalach': 168, 'exang': 1, 'oldpeak': 0.0, 'slope': 2, 'ca': 0, 'thal': 3}\n",
      "{'age': 59, 'sex': 1, 'cp': 2, 'trestbps': 150, 'chol': 212, 'fbs': 1, 'restecg': 1, 'thalach': 157, 'exang': 0, 'oldpeak': 1.6, 'slope': 2, 'ca': 0, 'thal': 2}\n"
     ]
    }
   ],
   "source": [
    "for element in heart_ds.as_numpy_iterator():\n",
    "    print(element)"
   ]
  },
  {
   "cell_type": "code",
   "execution_count": 56,
   "id": "277cde41",
   "metadata": {},
   "outputs": [
    {
     "data": {
      "text/plain": [
       "{'age': <KerasTensor: shape=(None, 1) dtype=float32 (created by layer 'age')>,\n",
       " 'sex': <KerasTensor: shape=(None, 1) dtype=float32 (created by layer 'sex')>,\n",
       " 'cp': <KerasTensor: shape=(None, 1) dtype=float32 (created by layer 'cp')>,\n",
       " 'trestbps': <KerasTensor: shape=(None, 1) dtype=float32 (created by layer 'trestbps')>,\n",
       " 'chol': <KerasTensor: shape=(None, 1) dtype=float32 (created by layer 'chol')>,\n",
       " 'fbs': <KerasTensor: shape=(None, 1) dtype=float32 (created by layer 'fbs')>,\n",
       " 'restecg': <KerasTensor: shape=(None, 1) dtype=float32 (created by layer 'restecg')>,\n",
       " 'thalach': <KerasTensor: shape=(None, 1) dtype=float32 (created by layer 'thalach')>,\n",
       " 'exang': <KerasTensor: shape=(None, 1) dtype=float32 (created by layer 'exang')>,\n",
       " 'oldpeak': <KerasTensor: shape=(None, 1) dtype=float32 (created by layer 'oldpeak')>,\n",
       " 'slope': <KerasTensor: shape=(None, 1) dtype=float32 (created by layer 'slope')>,\n",
       " 'ca': <KerasTensor: shape=(None, 1) dtype=float32 (created by layer 'ca')>,\n",
       " 'thal': <KerasTensor: shape=(None, 1) dtype=float32 (created by layer 'thal')>}"
      ]
     },
     "execution_count": 56,
     "metadata": {},
     "output_type": "execute_result"
    }
   ],
   "source": [
    "inputs = {}\n",
    "\n",
    "for name, column in heart_features.items():\n",
    "    dtype = column.dtype\n",
    "    if dtype == object:\n",
    "        dtype = tf.string\n",
    "    else:\n",
    "        dtype = tf.float32\n",
    "\n",
    "    inputs[name] = tf.keras.Input(shape=(1,), name=name, dtype=dtype)\n",
    "\n",
    "inputs"
   ]
  },
  {
   "cell_type": "code",
   "execution_count": 58,
   "id": "b439185d",
   "metadata": {},
   "outputs": [
    {
     "data": {
      "text/plain": [
       "<KerasTensor: shape=(None, 13) dtype=float32 (created by layer 'normalization_1')>"
      ]
     },
     "execution_count": 58,
     "metadata": {},
     "output_type": "execute_result"
    }
   ],
   "source": [
    "numeric_inputs = {name:input for name,input in inputs.items()\n",
    "                  if input.dtype==tf.float32}\n",
    "\n",
    "x = layers.Concatenate()(list(numeric_inputs.values()))\n",
    "norm = layers.Normalization()\n",
    "norm.adapt(np.array(data[numeric_inputs.keys()]))\n",
    "all_numeric_inputs = norm(x)\n",
    "\n",
    "all_numeric_inputs"
   ]
  },
  {
   "cell_type": "code",
   "execution_count": 59,
   "id": "89b065c9",
   "metadata": {},
   "outputs": [],
   "source": [
    "preprocessed_inputs = [all_numeric_inputs]"
   ]
  },
  {
   "cell_type": "code",
   "execution_count": 62,
   "id": "6e4b811b",
   "metadata": {},
   "outputs": [],
   "source": [
    "for name, input in inputs.items():\n",
    "    if input.dtype == tf.float32:\n",
    "        continue\n",
    "\n",
    "    lookup = layers.StringLookup(vocabulary=np.unique(titanic_features[name]))\n",
    "    one_hot = layers.CategoryEncoding(num_tokens=lookup.vocabulary_size())\n",
    "\n",
    "    x = lookup(input)\n",
    "    x = one_hot(x)\n",
    "    preprocessed_inputs.append(x)"
   ]
  },
  {
   "cell_type": "code",
   "execution_count": 63,
   "id": "f62c3f2a",
   "metadata": {},
   "outputs": [],
   "source": [
    "preprocessed_inputs_cat = layers.Concatenate()(preprocessed_inputs)\n",
    "\n",
    "heart_preprocessing = tf.keras.Model(inputs, preprocessed_inputs_cat)"
   ]
  },
  {
   "cell_type": "code",
   "execution_count": 69,
   "id": "4fe42f6c",
   "metadata": {},
   "outputs": [],
   "source": [
    "def heart_model(preprocessing_head, inputs):\n",
    "    body = tf.keras.Sequential([\n",
    "    layers.Dense(64),\n",
    "    layers.Dense(1)\n",
    "  ])\n",
    "\n",
    "    preprocessed_inputs = preprocessing_head(inputs)\n",
    "    result = body(preprocessed_inputs)\n",
    "    model = tf.keras.Model(inputs, result)\n",
    "    model.compile(loss=tf.keras.losses.BinaryCrossentropy(from_logits=True),\n",
    "                optimizer=tf.keras.optimizers.Adam())\n",
    "    return model\n",
    "heart_model = heart_model(heart_preprocessing, inputs)"
   ]
  },
  {
   "cell_type": "code",
   "execution_count": 70,
   "id": "a39f07bb",
   "metadata": {},
   "outputs": [
    {
     "name": "stdout",
     "output_type": "stream",
     "text": [
      "Model: \"model_2\"\n",
      "__________________________________________________________________________________________________\n",
      " Layer (type)                   Output Shape         Param #     Connected to                     \n",
      "==================================================================================================\n",
      " age (InputLayer)               [(None, 1)]          0           []                               \n",
      "                                                                                                  \n",
      " ca (InputLayer)                [(None, 1)]          0           []                               \n",
      "                                                                                                  \n",
      " chol (InputLayer)              [(None, 1)]          0           []                               \n",
      "                                                                                                  \n",
      " cp (InputLayer)                [(None, 1)]          0           []                               \n",
      "                                                                                                  \n",
      " exang (InputLayer)             [(None, 1)]          0           []                               \n",
      "                                                                                                  \n",
      " fbs (InputLayer)               [(None, 1)]          0           []                               \n",
      "                                                                                                  \n",
      " oldpeak (InputLayer)           [(None, 1)]          0           []                               \n",
      "                                                                                                  \n",
      " restecg (InputLayer)           [(None, 1)]          0           []                               \n",
      "                                                                                                  \n",
      " sex (InputLayer)               [(None, 1)]          0           []                               \n",
      "                                                                                                  \n",
      " slope (InputLayer)             [(None, 1)]          0           []                               \n",
      "                                                                                                  \n",
      " thal (InputLayer)              [(None, 1)]          0           []                               \n",
      "                                                                                                  \n",
      " thalach (InputLayer)           [(None, 1)]          0           []                               \n",
      "                                                                                                  \n",
      " trestbps (InputLayer)          [(None, 1)]          0           []                               \n",
      "                                                                                                  \n",
      " model (Functional)             (None, 13)           27          ['age[0][0]',                    \n",
      "                                                                  'ca[0][0]',                     \n",
      "                                                                  'chol[0][0]',                   \n",
      "                                                                  'cp[0][0]',                     \n",
      "                                                                  'exang[0][0]',                  \n",
      "                                                                  'fbs[0][0]',                    \n",
      "                                                                  'oldpeak[0][0]',                \n",
      "                                                                  'restecg[0][0]',                \n",
      "                                                                  'sex[0][0]',                    \n",
      "                                                                  'slope[0][0]',                  \n",
      "                                                                  'thal[0][0]',                   \n",
      "                                                                  'thalach[0][0]',                \n",
      "                                                                  'trestbps[0][0]']               \n",
      "                                                                                                  \n",
      " sequential_4 (Sequential)      (None, 1)            961         ['model[1][0]']                  \n",
      "                                                                                                  \n",
      "==================================================================================================\n",
      "Total params: 988\n",
      "Trainable params: 961\n",
      "Non-trainable params: 27\n",
      "__________________________________________________________________________________________________\n"
     ]
    }
   ],
   "source": [
    "heart_model.summary()"
   ]
  },
  {
   "cell_type": "code",
   "execution_count": 74,
   "id": "01828cf8",
   "metadata": {
    "scrolled": true
   },
   "outputs": [
    {
     "name": "stdout",
     "output_type": "stream",
     "text": [
      "Epoch 1/5\n",
      "WARNING:tensorflow:Model was constructed with shape (None, 1) for input KerasTensor(type_spec=TensorSpec(shape=(None, 1), dtype=tf.float32, name='dense_3_input'), name='dense_3_input', description=\"created by layer 'dense_3_input'\"), but it was called on an input with incompatible shape (None, 13).\n"
     ]
    },
    {
     "ename": "ValueError",
     "evalue": "in user code:\n\n    File \"C:\\Users\\pedro\\Proyectos\\myenv\\lib\\site-packages\\keras\\engine\\training.py\", line 1249, in train_function  *\n        return step_function(self, iterator)\n    File \"C:\\Users\\pedro\\Proyectos\\myenv\\lib\\site-packages\\keras\\engine\\training.py\", line 1233, in step_function  **\n        outputs = model.distribute_strategy.run(run_step, args=(data,))\n    File \"C:\\Users\\pedro\\Proyectos\\myenv\\lib\\site-packages\\keras\\engine\\training.py\", line 1222, in run_step  **\n        outputs = model.train_step(data)\n    File \"C:\\Users\\pedro\\Proyectos\\myenv\\lib\\site-packages\\keras\\engine\\training.py\", line 1023, in train_step\n        y_pred = self(x, training=True)\n    File \"C:\\Users\\pedro\\Proyectos\\myenv\\lib\\site-packages\\keras\\utils\\traceback_utils.py\", line 70, in error_handler\n        raise e.with_traceback(filtered_tb) from None\n    File \"C:\\Users\\pedro\\Proyectos\\myenv\\lib\\site-packages\\keras\\engine\\input_spec.py\", line 277, in assert_input_compatibility\n        raise ValueError(\n\n    ValueError: Exception encountered when calling layer 'sequential_1' (type Sequential).\n    \n    Input 0 of layer \"dense_3\" is incompatible with the layer: expected axis -1 of input shape to have value 1, but received input with shape (None, 13)\n    \n    Call arguments received by layer 'sequential_1' (type Sequential):\n      • inputs=tf.Tensor(shape=(None, 13), dtype=float32)\n      • training=True\n      • mask=None\n",
     "output_type": "error",
     "traceback": [
      "\u001b[1;31m---------------------------------------------------------------------------\u001b[0m",
      "\u001b[1;31mValueError\u001b[0m                                Traceback (most recent call last)",
      "Cell \u001b[1;32mIn[74], line 2\u001b[0m\n\u001b[0;32m      1\u001b[0m EPOCHS \u001b[38;5;241m=\u001b[39m \u001b[38;5;241m5\u001b[39m   \n\u001b[1;32m----> 2\u001b[0m \u001b[43mmodel\u001b[49m\u001b[38;5;241;43m.\u001b[39;49m\u001b[43mfit\u001b[49m\u001b[43m(\u001b[49m\u001b[43mx\u001b[49m\u001b[38;5;241;43m=\u001b[39;49m\u001b[43mheart_features\u001b[49m\u001b[43m,\u001b[49m\u001b[43m \u001b[49m\u001b[43my\u001b[49m\u001b[38;5;241;43m=\u001b[39;49m\u001b[43mheart_labels\u001b[49m\u001b[43m,\u001b[49m\u001b[43m \u001b[49m\u001b[43mepochs\u001b[49m\u001b[38;5;241;43m=\u001b[39;49m\u001b[43mEPOCHS\u001b[49m\u001b[43m)\u001b[49m\n",
      "File \u001b[1;32m~\\Proyectos\\myenv\\lib\\site-packages\\keras\\utils\\traceback_utils.py:70\u001b[0m, in \u001b[0;36mfilter_traceback.<locals>.error_handler\u001b[1;34m(*args, **kwargs)\u001b[0m\n\u001b[0;32m     67\u001b[0m     filtered_tb \u001b[38;5;241m=\u001b[39m _process_traceback_frames(e\u001b[38;5;241m.\u001b[39m__traceback__)\n\u001b[0;32m     68\u001b[0m     \u001b[38;5;66;03m# To get the full stack trace, call:\u001b[39;00m\n\u001b[0;32m     69\u001b[0m     \u001b[38;5;66;03m# `tf.debugging.disable_traceback_filtering()`\u001b[39;00m\n\u001b[1;32m---> 70\u001b[0m     \u001b[38;5;28;01mraise\u001b[39;00m e\u001b[38;5;241m.\u001b[39mwith_traceback(filtered_tb) \u001b[38;5;28;01mfrom\u001b[39;00m \u001b[38;5;28;01mNone\u001b[39;00m\n\u001b[0;32m     71\u001b[0m \u001b[38;5;28;01mfinally\u001b[39;00m:\n\u001b[0;32m     72\u001b[0m     \u001b[38;5;28;01mdel\u001b[39;00m filtered_tb\n",
      "File \u001b[1;32m~\\AppData\\Local\\Temp\\__autograph_generated_file7vo7qzzp.py:15\u001b[0m, in \u001b[0;36mouter_factory.<locals>.inner_factory.<locals>.tf__train_function\u001b[1;34m(iterator)\u001b[0m\n\u001b[0;32m     13\u001b[0m \u001b[38;5;28;01mtry\u001b[39;00m:\n\u001b[0;32m     14\u001b[0m     do_return \u001b[38;5;241m=\u001b[39m \u001b[38;5;28;01mTrue\u001b[39;00m\n\u001b[1;32m---> 15\u001b[0m     retval_ \u001b[38;5;241m=\u001b[39m ag__\u001b[38;5;241m.\u001b[39mconverted_call(ag__\u001b[38;5;241m.\u001b[39mld(step_function), (ag__\u001b[38;5;241m.\u001b[39mld(\u001b[38;5;28mself\u001b[39m), ag__\u001b[38;5;241m.\u001b[39mld(iterator)), \u001b[38;5;28;01mNone\u001b[39;00m, fscope)\n\u001b[0;32m     16\u001b[0m \u001b[38;5;28;01mexcept\u001b[39;00m:\n\u001b[0;32m     17\u001b[0m     do_return \u001b[38;5;241m=\u001b[39m \u001b[38;5;28;01mFalse\u001b[39;00m\n",
      "\u001b[1;31mValueError\u001b[0m: in user code:\n\n    File \"C:\\Users\\pedro\\Proyectos\\myenv\\lib\\site-packages\\keras\\engine\\training.py\", line 1249, in train_function  *\n        return step_function(self, iterator)\n    File \"C:\\Users\\pedro\\Proyectos\\myenv\\lib\\site-packages\\keras\\engine\\training.py\", line 1233, in step_function  **\n        outputs = model.distribute_strategy.run(run_step, args=(data,))\n    File \"C:\\Users\\pedro\\Proyectos\\myenv\\lib\\site-packages\\keras\\engine\\training.py\", line 1222, in run_step  **\n        outputs = model.train_step(data)\n    File \"C:\\Users\\pedro\\Proyectos\\myenv\\lib\\site-packages\\keras\\engine\\training.py\", line 1023, in train_step\n        y_pred = self(x, training=True)\n    File \"C:\\Users\\pedro\\Proyectos\\myenv\\lib\\site-packages\\keras\\utils\\traceback_utils.py\", line 70, in error_handler\n        raise e.with_traceback(filtered_tb) from None\n    File \"C:\\Users\\pedro\\Proyectos\\myenv\\lib\\site-packages\\keras\\engine\\input_spec.py\", line 277, in assert_input_compatibility\n        raise ValueError(\n\n    ValueError: Exception encountered when calling layer 'sequential_1' (type Sequential).\n    \n    Input 0 of layer \"dense_3\" is incompatible with the layer: expected axis -1 of input shape to have value 1, but received input with shape (None, 13)\n    \n    Call arguments received by layer 'sequential_1' (type Sequential):\n      • inputs=tf.Tensor(shape=(None, 13), dtype=float32)\n      • training=True\n      • mask=None\n"
     ]
    }
   ],
   "source": [
    "EPOCHS = 5   \n",
    "model.fit(x=heart_features, y=heart_labels, epochs=EPOCHS)"
   ]
  },
  {
   "cell_type": "code",
   "execution_count": 81,
   "id": "f03a710e",
   "metadata": {},
   "outputs": [],
   "source": [
    "model = tf.keras.Sequential([\n",
    "  layers.Dense(64),\n",
    "  layers.Dense(1)\n",
    "])\n",
    "\n",
    "model.compile(loss = tf.keras.losses.MeanSquaredError(),\n",
    "                      optimizer = tf.keras.optimizers.Adam())"
   ]
  },
  {
   "cell_type": "code",
   "execution_count": 83,
   "id": "5adefddf",
   "metadata": {},
   "outputs": [
    {
     "name": "stdout",
     "output_type": "stream",
     "text": [
      "Epoch 1/10\n",
      "10/10 [==============================] - 0s 2ms/step - loss: 0.1344\n",
      "Epoch 2/10\n",
      "10/10 [==============================] - 0s 1ms/step - loss: 0.1460\n",
      "Epoch 3/10\n",
      "10/10 [==============================] - 0s 1ms/step - loss: 0.1342\n",
      "Epoch 4/10\n",
      "10/10 [==============================] - 0s 1ms/step - loss: 0.1401\n",
      "Epoch 5/10\n",
      "10/10 [==============================] - 0s 2ms/step - loss: 0.1389\n",
      "Epoch 6/10\n",
      "10/10 [==============================] - 0s 1ms/step - loss: 0.1404\n",
      "Epoch 7/10\n",
      "10/10 [==============================] - 0s 2ms/step - loss: 0.1372\n",
      "Epoch 8/10\n",
      "10/10 [==============================] - 0s 2ms/step - loss: 0.1392\n",
      "Epoch 9/10\n",
      "10/10 [==============================] - 0s 2ms/step - loss: 0.1463\n",
      "Epoch 10/10\n",
      "10/10 [==============================] - 0s 2ms/step - loss: 0.1532\n"
     ]
    },
    {
     "data": {
      "text/plain": [
       "<keras.callbacks.History at 0x20623a6df60>"
      ]
     },
     "execution_count": 83,
     "metadata": {},
     "output_type": "execute_result"
    }
   ],
   "source": [
    "model.fit(heart_features, heart_labels, epochs=10)"
   ]
  },
  {
   "cell_type": "code",
   "execution_count": null,
   "id": "aa23fe97",
   "metadata": {},
   "outputs": [],
   "source": []
  }
 ],
 "metadata": {
  "kernelspec": {
   "display_name": "myenv",
   "language": "python",
   "name": "myenv"
  },
  "language_info": {
   "codemirror_mode": {
    "name": "ipython",
    "version": 3
   },
   "file_extension": ".py",
   "mimetype": "text/x-python",
   "name": "python",
   "nbconvert_exporter": "python",
   "pygments_lexer": "ipython3",
   "version": "3.10.11"
  }
 },
 "nbformat": 4,
 "nbformat_minor": 5
}
